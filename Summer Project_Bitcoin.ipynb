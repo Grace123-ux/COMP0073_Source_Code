{
 "cells": [
  {
   "cell_type": "code",
   "execution_count": 1,
   "id": "75eb28e8",
   "metadata": {},
   "outputs": [
    {
     "name": "stdout",
     "output_type": "stream",
     "text": [
      "[*********************100%***********************]  1 of 1 completed\n"
     ]
    }
   ],
   "source": [
    "import yfinance as yf\n",
    "import datetime as dt\n",
    "import numpy as np\n",
    "from numpy import arange\n",
    "import pandas as pd\n",
    "import matplotlib .pyplot as plt\n",
    "from pandas import read_csv\n",
    "from matplotlib import pyplot\n",
    "from sklearn.ensemble import RandomForestRegressor\n",
    "from sklearn.model_selection import train_test_split\n",
    "from sklearn import metrics\n",
    "from sklearn.preprocessing import StandardScaler\n",
    "from sklearn.model_selection import RandomizedSearchCV\n",
    "%matplotlib inline\n",
    "\n",
    "s1=\"BTC-USD\"\n",
    "s1_data=yf.download(s1,start=\"2021-06-01\",end=\"2022-06-01\")\n",
    "s1_df=pd.DataFrame(s1_data)\n",
    "s1_df.to_csv(\"s1_data.csv\")"
   ]
  },
  {
   "cell_type": "code",
   "execution_count": 2,
   "id": "a4bc6d6d",
   "metadata": {},
   "outputs": [
    {
     "data": {
      "text/html": [
       "<div>\n",
       "<style scoped>\n",
       "    .dataframe tbody tr th:only-of-type {\n",
       "        vertical-align: middle;\n",
       "    }\n",
       "\n",
       "    .dataframe tbody tr th {\n",
       "        vertical-align: top;\n",
       "    }\n",
       "\n",
       "    .dataframe thead th {\n",
       "        text-align: right;\n",
       "    }\n",
       "</style>\n",
       "<table border=\"1\" class=\"dataframe\">\n",
       "  <thead>\n",
       "    <tr style=\"text-align: right;\">\n",
       "      <th></th>\n",
       "      <th>Open</th>\n",
       "      <th>High</th>\n",
       "      <th>Low</th>\n",
       "      <th>Close</th>\n",
       "      <th>Adj Close</th>\n",
       "      <th>Volume</th>\n",
       "    </tr>\n",
       "    <tr>\n",
       "      <th>Date</th>\n",
       "      <th></th>\n",
       "      <th></th>\n",
       "      <th></th>\n",
       "      <th></th>\n",
       "      <th></th>\n",
       "      <th></th>\n",
       "    </tr>\n",
       "  </thead>\n",
       "  <tbody>\n",
       "    <tr>\n",
       "      <th>2021-05-31</th>\n",
       "      <td>35658.593750</td>\n",
       "      <td>37468.250000</td>\n",
       "      <td>34241.945312</td>\n",
       "      <td>37332.855469</td>\n",
       "      <td>37332.855469</td>\n",
       "      <td>39009847639</td>\n",
       "    </tr>\n",
       "    <tr>\n",
       "      <th>2021-06-01</th>\n",
       "      <td>37293.792969</td>\n",
       "      <td>37896.734375</td>\n",
       "      <td>35787.085938</td>\n",
       "      <td>36684.925781</td>\n",
       "      <td>36684.925781</td>\n",
       "      <td>34639423297</td>\n",
       "    </tr>\n",
       "    <tr>\n",
       "      <th>2021-06-02</th>\n",
       "      <td>36699.921875</td>\n",
       "      <td>38231.339844</td>\n",
       "      <td>35966.308594</td>\n",
       "      <td>37575.179688</td>\n",
       "      <td>37575.179688</td>\n",
       "      <td>33070867190</td>\n",
       "    </tr>\n",
       "    <tr>\n",
       "      <th>2021-06-03</th>\n",
       "      <td>37599.410156</td>\n",
       "      <td>39478.953125</td>\n",
       "      <td>37243.972656</td>\n",
       "      <td>39208.765625</td>\n",
       "      <td>39208.765625</td>\n",
       "      <td>35460750427</td>\n",
       "    </tr>\n",
       "    <tr>\n",
       "      <th>2021-06-04</th>\n",
       "      <td>39242.484375</td>\n",
       "      <td>39242.484375</td>\n",
       "      <td>35717.722656</td>\n",
       "      <td>36894.406250</td>\n",
       "      <td>36894.406250</td>\n",
       "      <td>41831090187</td>\n",
       "    </tr>\n",
       "    <tr>\n",
       "      <th>...</th>\n",
       "      <td>...</td>\n",
       "      <td>...</td>\n",
       "      <td>...</td>\n",
       "      <td>...</td>\n",
       "      <td>...</td>\n",
       "      <td>...</td>\n",
       "    </tr>\n",
       "    <tr>\n",
       "      <th>2022-05-27</th>\n",
       "      <td>29251.140625</td>\n",
       "      <td>29346.943359</td>\n",
       "      <td>28326.613281</td>\n",
       "      <td>28627.574219</td>\n",
       "      <td>28627.574219</td>\n",
       "      <td>36582005748</td>\n",
       "    </tr>\n",
       "    <tr>\n",
       "      <th>2022-05-28</th>\n",
       "      <td>28622.625000</td>\n",
       "      <td>28814.900391</td>\n",
       "      <td>28554.566406</td>\n",
       "      <td>28814.900391</td>\n",
       "      <td>28814.900391</td>\n",
       "      <td>35519577634</td>\n",
       "    </tr>\n",
       "    <tr>\n",
       "      <th>2022-05-29</th>\n",
       "      <td>29019.867188</td>\n",
       "      <td>29498.009766</td>\n",
       "      <td>28841.107422</td>\n",
       "      <td>29445.957031</td>\n",
       "      <td>29445.957031</td>\n",
       "      <td>18093886409</td>\n",
       "    </tr>\n",
       "    <tr>\n",
       "      <th>2022-05-30</th>\n",
       "      <td>29443.365234</td>\n",
       "      <td>31949.630859</td>\n",
       "      <td>29303.572266</td>\n",
       "      <td>31726.390625</td>\n",
       "      <td>31726.390625</td>\n",
       "      <td>39277993274</td>\n",
       "    </tr>\n",
       "    <tr>\n",
       "      <th>2022-05-31</th>\n",
       "      <td>31723.865234</td>\n",
       "      <td>32249.863281</td>\n",
       "      <td>31286.154297</td>\n",
       "      <td>31792.310547</td>\n",
       "      <td>31792.310547</td>\n",
       "      <td>33538210634</td>\n",
       "    </tr>\n",
       "  </tbody>\n",
       "</table>\n",
       "<p>366 rows × 6 columns</p>\n",
       "</div>"
      ],
      "text/plain": [
       "                    Open          High           Low         Close  \\\n",
       "Date                                                                 \n",
       "2021-05-31  35658.593750  37468.250000  34241.945312  37332.855469   \n",
       "2021-06-01  37293.792969  37896.734375  35787.085938  36684.925781   \n",
       "2021-06-02  36699.921875  38231.339844  35966.308594  37575.179688   \n",
       "2021-06-03  37599.410156  39478.953125  37243.972656  39208.765625   \n",
       "2021-06-04  39242.484375  39242.484375  35717.722656  36894.406250   \n",
       "...                  ...           ...           ...           ...   \n",
       "2022-05-27  29251.140625  29346.943359  28326.613281  28627.574219   \n",
       "2022-05-28  28622.625000  28814.900391  28554.566406  28814.900391   \n",
       "2022-05-29  29019.867188  29498.009766  28841.107422  29445.957031   \n",
       "2022-05-30  29443.365234  31949.630859  29303.572266  31726.390625   \n",
       "2022-05-31  31723.865234  32249.863281  31286.154297  31792.310547   \n",
       "\n",
       "               Adj Close       Volume  \n",
       "Date                                   \n",
       "2021-05-31  37332.855469  39009847639  \n",
       "2021-06-01  36684.925781  34639423297  \n",
       "2021-06-02  37575.179688  33070867190  \n",
       "2021-06-03  39208.765625  35460750427  \n",
       "2021-06-04  36894.406250  41831090187  \n",
       "...                  ...          ...  \n",
       "2022-05-27  28627.574219  36582005748  \n",
       "2022-05-28  28814.900391  35519577634  \n",
       "2022-05-29  29445.957031  18093886409  \n",
       "2022-05-30  31726.390625  39277993274  \n",
       "2022-05-31  31792.310547  33538210634  \n",
       "\n",
       "[366 rows x 6 columns]"
      ]
     },
     "execution_count": 2,
     "metadata": {},
     "output_type": "execute_result"
    }
   ],
   "source": [
    "s1_df"
   ]
  },
  {
   "cell_type": "code",
   "execution_count": 3,
   "id": "7efb2f40",
   "metadata": {},
   "outputs": [
    {
     "data": {
      "image/png": "[encoded data removed]",
      "text/plain": [
       "<Figure size 648x216 with 1 Axes>"
      ]
     },
     "metadata": {
      "needs_background": "light"
     },
     "output_type": "display_data"
    }
   ],
   "source": [
    "read_df=pd.read_csv(\"s1_data.csv\")\n",
    "read_df.set_index(\"Date\",inplace=True)\n",
    "plt.figure(figsize=(9,3))\n",
    "read_df['Adj Close'].plot()\n",
    "plt.title('Dataset prices of BTC')\n",
    "plt.ylabel(\"Adjusted Close Prices\")\n",
    "plt.show()"
   ]
  },
  {
   "cell_type": "code",
   "execution_count": 4,
   "id": "533bec32",
   "metadata": {},
   "outputs": [
    {
     "data": {
      "text/html": [
       "<div>\n",
       "<style scoped>\n",
       "    .dataframe tbody tr th:only-of-type {\n",
       "        vertical-align: middle;\n",
       "    }\n",
       "\n",
       "    .dataframe tbody tr th {\n",
       "        vertical-align: top;\n",
       "    }\n",
       "\n",
       "    .dataframe thead th {\n",
       "        text-align: right;\n",
       "    }\n",
       "</style>\n",
       "<table border=\"1\" class=\"dataframe\">\n",
       "  <thead>\n",
       "    <tr style=\"text-align: right;\">\n",
       "      <th></th>\n",
       "      <th>Open</th>\n",
       "      <th>High</th>\n",
       "      <th>Low</th>\n",
       "      <th>Close</th>\n",
       "      <th>Adj Close</th>\n",
       "      <th>Volume</th>\n",
       "    </tr>\n",
       "    <tr>\n",
       "      <th>Date</th>\n",
       "      <th></th>\n",
       "      <th></th>\n",
       "      <th></th>\n",
       "      <th></th>\n",
       "      <th></th>\n",
       "      <th></th>\n",
       "    </tr>\n",
       "  </thead>\n",
       "  <tbody>\n",
       "    <tr>\n",
       "      <th>2021-05-31</th>\n",
       "      <td>35658.593750</td>\n",
       "      <td>37468.250000</td>\n",
       "      <td>34241.945312</td>\n",
       "      <td>37332.855469</td>\n",
       "      <td>37332.855469</td>\n",
       "      <td>39009847639</td>\n",
       "    </tr>\n",
       "    <tr>\n",
       "      <th>2021-06-01</th>\n",
       "      <td>37293.792969</td>\n",
       "      <td>37896.734375</td>\n",
       "      <td>35787.085938</td>\n",
       "      <td>36684.925781</td>\n",
       "      <td>36684.925781</td>\n",
       "      <td>34639423297</td>\n",
       "    </tr>\n",
       "    <tr>\n",
       "      <th>2021-06-02</th>\n",
       "      <td>36699.921875</td>\n",
       "      <td>38231.339844</td>\n",
       "      <td>35966.308594</td>\n",
       "      <td>37575.179688</td>\n",
       "      <td>37575.179688</td>\n",
       "      <td>33070867190</td>\n",
       "    </tr>\n",
       "    <tr>\n",
       "      <th>2021-06-03</th>\n",
       "      <td>37599.410156</td>\n",
       "      <td>39478.953125</td>\n",
       "      <td>37243.972656</td>\n",
       "      <td>39208.765625</td>\n",
       "      <td>39208.765625</td>\n",
       "      <td>35460750427</td>\n",
       "    </tr>\n",
       "    <tr>\n",
       "      <th>2021-06-04</th>\n",
       "      <td>39242.484375</td>\n",
       "      <td>39242.484375</td>\n",
       "      <td>35717.722656</td>\n",
       "      <td>36894.406250</td>\n",
       "      <td>36894.406250</td>\n",
       "      <td>41831090187</td>\n",
       "    </tr>\n",
       "    <tr>\n",
       "      <th>...</th>\n",
       "      <td>...</td>\n",
       "      <td>...</td>\n",
       "      <td>...</td>\n",
       "      <td>...</td>\n",
       "      <td>...</td>\n",
       "      <td>...</td>\n",
       "    </tr>\n",
       "    <tr>\n",
       "      <th>2022-05-27</th>\n",
       "      <td>29251.140625</td>\n",
       "      <td>29346.943359</td>\n",
       "      <td>28326.613281</td>\n",
       "      <td>28627.574219</td>\n",
       "      <td>28627.574219</td>\n",
       "      <td>36582005748</td>\n",
       "    </tr>\n",
       "    <tr>\n",
       "      <th>2022-05-28</th>\n",
       "      <td>28622.625000</td>\n",
       "      <td>28814.900391</td>\n",
       "      <td>28554.566406</td>\n",
       "      <td>28814.900391</td>\n",
       "      <td>28814.900391</td>\n",
       "      <td>35519577634</td>\n",
       "    </tr>\n",
       "    <tr>\n",
       "      <th>2022-05-29</th>\n",
       "      <td>29019.867188</td>\n",
       "      <td>29498.009766</td>\n",
       "      <td>28841.107422</td>\n",
       "      <td>29445.957031</td>\n",
       "      <td>29445.957031</td>\n",
       "      <td>18093886409</td>\n",
       "    </tr>\n",
       "    <tr>\n",
       "      <th>2022-05-30</th>\n",
       "      <td>29443.365234</td>\n",
       "      <td>31949.630859</td>\n",
       "      <td>29303.572266</td>\n",
       "      <td>31726.390625</td>\n",
       "      <td>31726.390625</td>\n",
       "      <td>39277993274</td>\n",
       "    </tr>\n",
       "    <tr>\n",
       "      <th>2022-05-31</th>\n",
       "      <td>31723.865234</td>\n",
       "      <td>32249.863281</td>\n",
       "      <td>31286.154297</td>\n",
       "      <td>31792.310547</td>\n",
       "      <td>31792.310547</td>\n",
       "      <td>33538210634</td>\n",
       "    </tr>\n",
       "  </tbody>\n",
       "</table>\n",
       "<p>366 rows × 6 columns</p>\n",
       "</div>"
      ],
      "text/plain": [
       "                    Open          High           Low         Close  \\\n",
       "Date                                                                 \n",
       "2021-05-31  35658.593750  37468.250000  34241.945312  37332.855469   \n",
       "2021-06-01  37293.792969  37896.734375  35787.085938  36684.925781   \n",
       "2021-06-02  36699.921875  38231.339844  35966.308594  37575.179688   \n",
       "2021-06-03  37599.410156  39478.953125  37243.972656  39208.765625   \n",
       "2021-06-04  39242.484375  39242.484375  35717.722656  36894.406250   \n",
       "...                  ...           ...           ...           ...   \n",
       "2022-05-27  29251.140625  29346.943359  28326.613281  28627.574219   \n",
       "2022-05-28  28622.625000  28814.900391  28554.566406  28814.900391   \n",
       "2022-05-29  29019.867188  29498.009766  28841.107422  29445.957031   \n",
       "2022-05-30  29443.365234  31949.630859  29303.572266  31726.390625   \n",
       "2022-05-31  31723.865234  32249.863281  31286.154297  31792.310547   \n",
       "\n",
       "               Adj Close       Volume  \n",
       "Date                                   \n",
       "2021-05-31  37332.855469  39009847639  \n",
       "2021-06-01  36684.925781  34639423297  \n",
       "2021-06-02  37575.179688  33070867190  \n",
       "2021-06-03  39208.765625  35460750427  \n",
       "2021-06-04  36894.406250  41831090187  \n",
       "...                  ...          ...  \n",
       "2022-05-27  28627.574219  36582005748  \n",
       "2022-05-28  28814.900391  35519577634  \n",
       "2022-05-29  29445.957031  18093886409  \n",
       "2022-05-30  31726.390625  39277993274  \n",
       "2022-05-31  31792.310547  33538210634  \n",
       "\n",
       "[366 rows x 6 columns]"
      ]
     },
     "execution_count": 4,
     "metadata": {},
     "output_type": "execute_result"
    }
   ],
   "source": [
    "df = pd.read_csv(\"s1_data.csv\")\n",
    "df.set_index(\"Date\", inplace=True)\n",
    "df.dropna()"
   ]
  },
  {
   "cell_type": "code",
   "execution_count": 5,
   "id": "9054b802",
   "metadata": {},
   "outputs": [],
   "source": [
    "x = df.iloc[:, 0:5].values # open, high, low, close, adj-close\n",
    "y = df.iloc[:, 4].values #adj-close\n",
    "#there are five features we will need. "
   ]
  },
  {
   "cell_type": "code",
   "execution_count": 6,
   "id": "cb439fd5",
   "metadata": {},
   "outputs": [
    {
     "data": {
      "text/plain": [
       "(366,)"
      ]
     },
     "execution_count": 6,
     "metadata": {},
     "output_type": "execute_result"
    }
   ],
   "source": [
    "x.shape# the length of the array\n",
    "y.shape"
   ]
  },
  {
   "cell_type": "code",
   "execution_count": 7,
   "id": "8f985657",
   "metadata": {},
   "outputs": [],
   "source": [
    "x_train, x_test, y_train, y_test = train_test_split(x, y, test_size=0.3,  random_state=100)\n",
    "# Split arrays and matrices into random train and test subsets.\n",
    "# The test_size represents the proportion of the dataset to include in the test split.Here we use 0.3"
   ]
  },
  {
   "cell_type": "code",
   "execution_count": 8,
   "id": "4f9e05e8",
   "metadata": {},
   "outputs": [],
   "source": [
    "#Random Forest"
   ]
  },
  {
   "cell_type": "code",
   "execution_count": 9,
   "id": "68b2769a",
   "metadata": {},
   "outputs": [],
   "source": [
    "rf_model = RandomForestRegressor(n_estimators=100, max_depth=2, max_features=4, random_state=10)\n",
    "rf_model.fit(x_train, y_train)\n",
    "predict_rf = rf_model.predict(x_test)"
   ]
  },
  {
   "cell_type": "code",
   "execution_count": 10,
   "id": "bc32c92b",
   "metadata": {},
   "outputs": [
    {
     "name": "stdout",
     "output_type": "stream",
     "text": [
      "Accuracy Evaluation\n",
      "Mean Absolute Error: 1597.4954\n",
      "Mean Squared Error: 4399549.6796\n",
      "Root Mean Squared Error: 2097.5104\n",
      "(R^2) Score: 0.9528\n",
      "Train Score : 95.92% and Test Score : 95.28% using Random Tree Regressor.\n",
      "Accuracy: 96.3678 %.\n"
     ]
    }
   ],
   "source": [
    "#RF accuracy\n",
    "print(\"Accuracy Evaluation\")\n",
    "print(\"Mean Absolute Error:\", round(metrics.mean_absolute_error(y_test, predict_rf), 4))\n",
    "print(\"Mean Squared Error:\", round(metrics.mean_squared_error(y_test, predict_rf), 4))\n",
    "print(\"Root Mean Squared Error:\", round(np.sqrt(metrics.mean_squared_error(y_test, predict_rf)), 4))\n",
    "print(\"(R^2) Score:\", round(metrics.r2_score(y_test, predict_rf), 4))\n",
    "print(f'Train Score : {rf_model.score(x_train, y_train) * 100:.2f}% and Test Score : {rf_model.score(x_test, y_test) * 100:.2f}% using Random Tree Regressor.')\n",
    "errors = abs(predict_rf - y_test)\n",
    "mape = 100 * (errors / y_test)\n",
    "accuracy = 100 - np.mean(mape)\n",
    "print('Accuracy:', round(accuracy, 4), '%.') "
   ]
  },
  {
   "cell_type": "code",
   "execution_count": null,
   "id": "1181820f",
   "metadata": {},
   "outputs": [],
   "source": []
  },
  {
   "cell_type": "code",
   "execution_count": 21,
   "id": "d030960d",
   "metadata": {},
   "outputs": [],
   "source": [
    "#SVM\n",
    "from sklearn import svm\n",
    "\n",
    "svm_clf = svm.SVC(probability=True)\n",
    "svm_clf.fit(x, y.astype('int'))\n",
    "predict_svm = svm_clf.predict(x_test)\n"
   ]
  },
  {
   "cell_type": "code",
   "execution_count": 22,
   "id": "67a788f3",
   "metadata": {},
   "outputs": [
    {
     "name": "stdout",
     "output_type": "stream",
     "text": [
      "SVM\n",
      "Mean Absolute Error: 2007.0883\n",
      "Mean Squared Error: 9520381.1614\n",
      "Root Mean Squared Error: 3085.5115\n",
      "(R^2) Score: 0.8979\n",
      "Accuracy: 95.1878 %.\n"
     ]
    }
   ],
   "source": [
    "print(\"SVM\")\n",
    "print(\"Mean Absolute Error:\", round(metrics.mean_absolute_error(y_test, predict_svm), 4))\n",
    "print(\"Mean Squared Error:\", round(metrics.mean_squared_error(y_test, predict_svm), 4))\n",
    "print(\"Root Mean Squared Error:\", round(np.sqrt(metrics.mean_squared_error(y_test, predict_svm)), 4))\n",
    "print(\"(R^2) Score:\", round(metrics.r2_score(y_test, predict_svm), 4))\n",
    "svm_errors = abs(predict_svm - y_test)\n",
    "svm_mape = 100 * (svm_errors / y_test)\n",
    "accuracy = 100 - np.mean(svm_mape)\n",
    "print('Accuracy:', round(accuracy, 4), '%.') "
   ]
  },
  {
   "cell_type": "code",
   "execution_count": 23,
   "id": "33e635c8",
   "metadata": {},
   "outputs": [],
   "source": [
    "#LR model\n",
    "y_train=y_train.astype('int')#change train dataset into integers\n",
    "x_train=x_train.astype('int')#change train dataset into integers\n"
   ]
  },
  {
   "cell_type": "code",
   "execution_count": 24,
   "id": "b87ec9f1",
   "metadata": {},
   "outputs": [
    {
     "name": "stdout",
     "output_type": "stream",
     "text": [
      "multiclass\n"
     ]
    }
   ],
   "source": [
    "from sklearn.linear_model import LogisticRegression\n",
    "lr=LogisticRegression(solver='liblinear')\n",
    "lr.fit(x_train,y_train)\n",
    "predict_lr=lr.predict(x_test)\n",
    "from sklearn import preprocessing\n",
    "label_encoder=preprocessing.LabelEncoder()\n",
    "y_train=label_encoder.fit_transform(y_train)\n",
    "from sklearn import utils\n",
    "print(utils.multiclass.type_of_target(y_train))\n"
   ]
  },
  {
   "cell_type": "code",
   "execution_count": 25,
   "id": "c54cb22f",
   "metadata": {},
   "outputs": [
    {
     "name": "stdout",
     "output_type": "stream",
     "text": [
      "Logistic Regression\n",
      "Mean Absolute Error: 12822.7765\n",
      "Mean Squared Error: 236969929.52\n",
      "Root Mean Squared Error: 15393.8276\n",
      "(R^2) Score: -1.541\n",
      "Accuracy: 67.6271 %\n"
     ]
    }
   ],
   "source": [
    "print(\"Logistic Regression\")\n",
    "print(\"Mean Absolute Error:\", round(metrics.mean_absolute_error(y_test, predict_lr), 4))\n",
    "print(\"Mean Squared Error:\", round(metrics.mean_squared_error(y_test, predict_lr), 4))\n",
    "print(\"Root Mean Squared Error:\", round(np.sqrt(metrics.mean_squared_error(y_test, predict_lr)), 4))\n",
    "print(\"(R^2) Score:\", round(metrics.r2_score(y_test, predict_lr), 4))\n",
    "errors = abs(predict_lr - y_test)\n",
    "mape = 100* (errors / y_test)\n",
    "accuracy = 100 - np.mean(mape)\n",
    "print('Accuracy:', round(accuracy, 4),'%') "
   ]
  },
  {
   "cell_type": "code",
   "execution_count": 26,
   "id": "fae44be2",
   "metadata": {},
   "outputs": [
    {
     "data": {
      "image/png": "[encoded data removed]",
      "text/plain": [
       "<Figure size 360x216 with 1 Axes>"
      ]
     },
     "metadata": {
      "needs_background": "light"
     },
     "output_type": "display_data"
    }
   ],
   "source": [
    "#BTD-1-week comparison,there are five trading days in one week.\n",
    "predict_rf_oneweek=predict_rf[:5]\n",
    "predict_svm_oneweek=predict_svm[:5]\n",
    "predict_lr_oneweek=predict_lr[:5]\n",
    "plt.figure(figsize=(5,3))\n",
    "x=np.arange(5)\n",
    "plt.ylim([0,80000])\n",
    "plt.plot(x, predict_rf_oneweek,color='black',linewidth=0.5)\n",
    "plt.plot(x,predict_svm_oneweek,color='green',linewidth=0.5)\n",
    "plt.plot(x,predict_lr_oneweek,color='blue',linewidth=0.5)\n",
    "plt.legend(['RF','SVM','LR (Benchmark)'],loc='lower right')\n",
    "plt.title('One-Week prediction for BTN price')\n",
    "x_ticks=np.arange(0,5,1)\n",
    "plt.xticks(x_ticks)\n",
    "index_ls=['02/06','03/06','06/06','07/06','08/06']\n",
    "plt.xticks(x,index_ls)\n",
    "plt.xlabel(\"Date\")\n",
    "plt.ylabel(\"Price\")\n",
    "\n",
    "plt.show()"
   ]
  },
  {
   "cell_type": "code",
   "execution_count": 27,
   "id": "ccab4f3c",
   "metadata": {},
   "outputs": [
    {
     "name": "stdout",
     "output_type": "stream",
     "text": [
      "one-week\n",
      "LR\n",
      "RMSE: 12085.41\n",
      "(R^2) Score: -1.31\n",
      "Accuracy: 72.17 %\n",
      "RF\n",
      "RMSE: 1902.22\n",
      "(R^2) Score: 0.94\n",
      "Accuracy: 95.61 %\n",
      "SVM\n",
      "RMSE: 3762.64\n",
      "(R^2) Score: 0.78\n",
      "Accuracy: 94.08 %\n"
     ]
    }
   ],
   "source": [
    "#one-week accuracy\n",
    "print('one-week')\n",
    "y_test1=y_test[:5]\n",
    "print('LR')\n",
    "print(\"RMSE:\", round(np.sqrt(metrics.mean_squared_error(y_test1, predict_lr_oneweek)), 2))\n",
    "print(\"(R^2) Score:\", round(metrics.r2_score(y_test1, predict_lr_oneweek), 2))\n",
    "errors = abs(predict_lr_oneweek - y_test1)\n",
    "mape = 100* (errors / y_test1)\n",
    "accuracy = 100 - np.mean(mape)\n",
    "print('Accuracy:', round(accuracy, 2),'%') \n",
    "\n",
    "print('RF')\n",
    "print(\"RMSE:\", round(np.sqrt(metrics.mean_squared_error(y_test1, predict_rf_oneweek)), 2))\n",
    "print(\"(R^2) Score:\", round(metrics.r2_score(y_test1, predict_rf_oneweek), 2))\n",
    "errors = abs(predict_rf_oneweek - y_test1)\n",
    "mape = 100* (errors / y_test1)\n",
    "accuracy = 100 - np.mean(mape)\n",
    "print('Accuracy:', round(accuracy, 2),'%') \n",
    "\n",
    "print('SVM')\n",
    "print(\"RMSE:\", round(np.sqrt(metrics.mean_squared_error(y_test1, predict_svm_oneweek)), 2))\n",
    "print(\"(R^2) Score:\", round(metrics.r2_score(y_test1, predict_svm_oneweek), 2))\n",
    "errors = abs(predict_svm_oneweek - y_test1)\n",
    "mape = 100* (errors / y_test1)\n",
    "accuracy = 100 - np.mean(mape)\n",
    "print('Accuracy:', round(accuracy, 2),'%') "
   ]
  },
  {
   "cell_type": "code",
   "execution_count": 28,
   "id": "5b357b99",
   "metadata": {},
   "outputs": [
    {
     "data": {
      "image/png": "[encoded data removed]",
      "text/plain": [
       "<Figure size 936x216 with 1 Axes>"
      ]
     },
     "metadata": {
      "needs_background": "light"
     },
     "output_type": "display_data"
    }
   ],
   "source": [
    "#BTD-1-month comparison,there are 22 trading days in one month.\n",
    "predict_rf_onemonth=predict_rf[:22]\n",
    "predict_svm_onemonth=predict_svm[:22]\n",
    "predict_lr_onemonth=predict_lr[:22]\n",
    "plt.figure(figsize=(13,3))\n",
    "x=np.arange(0,22,1)\n",
    "plt.ylim([0,80000])\n",
    "plt.plot(x, predict_rf_onemonth,color='black',linewidth=0.5)\n",
    "plt.plot(x,predict_svm_onemonth,color='green',linewidth=0.5)\n",
    "plt.plot(x,predict_lr_onemonth,color='blue',linewidth=0.5)\n",
    "plt.legend(['RF','SVM','LR (Benchmark)'],loc='lower right')\n",
    "plt.title('One-Month prediction for BTC price')\n",
    "x_ticks=np.arange(0,22,1)\n",
    "plt.xticks(x_ticks)\n",
    "index_ls=['02/06','03/06','06/06','07/06','08/06','09/06','10/06','13/06','14/06','15/06','16/06','17/06','20/06','21/06','22/06','23/06','24/06','27/06','28/06','29/06','30/06','01/07']\n",
    "\n",
    "plt.xticks(x,index_ls)\n",
    "plt.xlabel(\"Date\")\n",
    "plt.ylabel(\"Price\")\n",
    "\n",
    "plt.show()\n",
    "\n",
    "\n"
   ]
  },
  {
   "cell_type": "code",
   "execution_count": 29,
   "id": "66096e39",
   "metadata": {},
   "outputs": [
    {
     "name": "stdout",
     "output_type": "stream",
     "text": [
      "one-month\n",
      "LR\n",
      "RMSE: 14912.81\n",
      "(R^2) Score: -2.26\n",
      "Accuracy: 66.58 %\n",
      "RF\n",
      "RMSE: 1838.94\n",
      "(R^2) Score: 0.95\n",
      "Accuracy: 96.13 %\n",
      "SVM\n",
      "RMSE: 3009.19\n",
      "(R^2) Score: 0.87\n",
      "Accuracy: 95.09 %\n"
     ]
    }
   ],
   "source": [
    "#one-month accuracy\n",
    "print('one-month')\n",
    "y_test2=y_test[:22]\n",
    "print('LR')\n",
    "print(\"RMSE:\", round(np.sqrt(metrics.mean_squared_error(y_test2, predict_lr_onemonth)), 2))\n",
    "print(\"(R^2) Score:\", round(metrics.r2_score(y_test2, predict_lr_onemonth), 2))\n",
    "errors = abs(predict_lr_onemonth - y_test2)\n",
    "mape = 100* (errors / y_test2)\n",
    "accuracy = 100 - np.mean(mape)\n",
    "print('Accuracy:', round(accuracy, 2),'%') \n",
    "\n",
    "print('RF')\n",
    "print(\"RMSE:\", round(np.sqrt(metrics.mean_squared_error(y_test2, predict_rf_onemonth)), 2))\n",
    "print(\"(R^2) Score:\", round(metrics.r2_score(y_test2, predict_rf_onemonth), 2))\n",
    "errors = abs(predict_rf_onemonth - y_test2)\n",
    "mape = 100* (errors / y_test2)\n",
    "accuracy = 100 - np.mean(mape)\n",
    "print('Accuracy:', round(accuracy, 2),'%') \n",
    "\n",
    "print('SVM')\n",
    "print(\"RMSE:\", round(np.sqrt(metrics.mean_squared_error(y_test2, predict_svm_onemonth)), 2))\n",
    "print(\"(R^2) Score:\", round(metrics.r2_score(y_test2, predict_svm_onemonth), 2))\n",
    "errors = abs(predict_svm_onemonth - y_test2)\n",
    "mape = 100* (errors / y_test2)\n",
    "accuracy = 100 - np.mean(mape)\n",
    "print('Accuracy:', round(accuracy, 2),'%') "
   ]
  },
  {
   "cell_type": "code",
   "execution_count": 30,
   "id": "01e4805f",
   "metadata": {},
   "outputs": [
    {
     "data": {
      "image/png": "[encoded data removed]",
      "text/plain": [
       "<Figure size 360x216 with 1 Axes>"
      ]
     },
     "metadata": {
      "needs_background": "light"
     },
     "output_type": "display_data"
    }
   ],
   "source": [
    "#BTD-3-month comparison,there are 64 trading days in three months.\n",
    "predict_rf_threemonth=predict_rf[:64]\n",
    "predict_svm_threemonth=predict_svm[:64]\n",
    "predict_lr_threemonth=predict_lr[:64]\n",
    "plt.figure(figsize=(5,3))\n",
    "x=np.arange(0,64,1)\n",
    "plt.ylim([0,80000])\n",
    "plt.plot(x, predict_rf_threemonth,color='black',linewidth=0.5)\n",
    "plt.plot(x,predict_svm_threemonth,color='green',linewidth=0.5)\n",
    "plt.plot(x,predict_lr_threemonth,color='blue',linewidth=0.5)\n",
    "plt.legend(['RF','SVM','LR (Benchmark)'],loc='lower right')\n",
    "plt.title('Three-Months prediction for BTC price')\n",
    "plt.xlabel(\"Date\")\n",
    "plt.ylabel(\"Price\")\n",
    "\n",
    "plt.show()"
   ]
  },
  {
   "cell_type": "code",
   "execution_count": 31,
   "id": "d7986e61",
   "metadata": {},
   "outputs": [
    {
     "name": "stdout",
     "output_type": "stream",
     "text": [
      "Three-Month\n",
      "LR\n",
      "RMSE: 14530.18\n",
      "(R^2) Score: -1.24\n",
      "Accuracy: 69.52 %\n",
      "RF\n",
      "RMSE: 2299.41\n",
      "(R^2) Score: 0.94\n",
      "Accuracy: 96.11 %\n",
      "SVM\n",
      "RMSE: 3047.61\n",
      "(R^2) Score: 0.9\n",
      "Accuracy: 95.23 %\n"
     ]
    }
   ],
   "source": [
    "#Three-month accuracy\n",
    "print('Three-Month')\n",
    "y_test3=y_test[:64]\n",
    "print('LR')\n",
    "print(\"RMSE:\", round(np.sqrt(metrics.mean_squared_error(y_test3, predict_lr_threemonth)), 2))\n",
    "print(\"(R^2) Score:\", round(metrics.r2_score(y_test3, predict_lr_threemonth), 2))\n",
    "errors = abs(predict_lr_threemonth - y_test3)\n",
    "mape = 100* (errors / y_test3)\n",
    "accuracy = 100 - np.mean(mape)\n",
    "print('Accuracy:', round(accuracy, 2),'%') \n",
    "\n",
    "print('RF')\n",
    "print(\"RMSE:\", round(np.sqrt(metrics.mean_squared_error(y_test3, predict_rf_threemonth)), 2))\n",
    "print(\"(R^2) Score:\", round(metrics.r2_score(y_test3, predict_rf_threemonth), 2))\n",
    "errors = abs(predict_rf_threemonth - y_test3)\n",
    "mape = 100* (errors / y_test3)\n",
    "accuracy = 100 - np.mean(mape)\n",
    "print('Accuracy:', round(accuracy, 2),'%') \n",
    "\n",
    "print('SVM')\n",
    "print(\"RMSE:\", round(np.sqrt(metrics.mean_squared_error(y_test3, predict_svm_threemonth)), 2))\n",
    "print(\"(R^2) Score:\", round(metrics.r2_score(y_test3, predict_svm_threemonth), 2))\n",
    "errors = abs(predict_svm_threemonth - y_test3)\n",
    "mape = 100* (errors / y_test3)\n",
    "accuracy = 100 - np.mean(mape)\n",
    "print('Accuracy:', round(accuracy, 2),'%') "
   ]
  },
  {
   "cell_type": "code",
   "execution_count": 36,
   "id": "e39a67e5",
   "metadata": {},
   "outputs": [
    {
     "name": "stdout",
     "output_type": "stream",
     "text": [
      "Investment Strategy for next 3 months\n",
      "Buy price and date\n",
      "    Unnamed: 0  Predictions\n",
      "10  2022-06-10        29807\n",
      "Sell price and date\n",
      "    Unnamed: 0  Predictions\n",
      "33  2022-07-03        67566\n"
     ]
    }
   ],
   "source": [
    "predictions = pd.DataFrame({\"Predictions\": predict_svm}, index=pd.date_range(start=df.index[-1], periods=len(predict_svm), freq=\"D\"))\n",
    "predictions.to_csv(\"Predicted-price-data.csv\")\n",
    "#colllects future days from predicted values\n",
    "threemonth_df = pd.DataFrame(predictions[:63])\n",
    "threemonth_df.to_csv(\"three-month-predictions.csv\")\n",
    "threemonth_df_pred = pd.read_csv(\"three-month-predictions.csv\")\n",
    "buy_price = min(threemonth_df_pred[\"Predictions\"])\n",
    "sell_price = max(threemonth_df_pred[\"Predictions\"])\n",
    "threemonth_buy = threemonth_df_pred.loc[threemonth_df_pred[\"Predictions\"] == buy_price]\n",
    "threemonth_sell = threemonth_df_pred.loc[threemonth_df_pred[\"Predictions\"] == sell_price]\n",
    "print(\"Investment Strategy for next 3 months\")\n",
    "print(\"Buy price and date\")\n",
    "print(threemonth_buy)\n",
    "print(\"Sell price and date\")\n",
    "print(threemonth_sell)"
   ]
  },
  {
   "cell_type": "code",
   "execution_count": 33,
   "id": "289ff085",
   "metadata": {},
   "outputs": [
    {
     "name": "stdout",
     "output_type": "stream",
     "text": [
      "Investment Strategy for next 1 month\n",
      "Buy price and date\n",
      "    Unnamed: 0  Predictions\n",
      "10  2022-06-10        29807\n",
      "Sell price and date\n",
      "   Unnamed: 0  Predictions\n",
      "8  2022-06-08        63326\n"
     ]
    }
   ],
   "source": [
    "predictions = pd.DataFrame({\"Predictions\": predict_svm}, index=pd.date_range(start=df.index[-1], periods=len(predict_svm), freq=\"D\"))\n",
    "\n",
    "predictions.to_csv(\"Predicted-price-data.csv\")\n",
    "#colllects future days from predicted values\n",
    "\n",
    "onemonth_df = pd.DataFrame(predictions[:22])\n",
    "onemonth_df.to_csv(\"one-month-predictions.csv\")\n",
    "\n",
    "\n",
    "onemonth_df_pred = pd.read_csv(\"one-month-predictions.csv\")\n",
    "\n",
    "buy_price = min(onemonth_df_pred[\"Predictions\"])\n",
    "sell_price = max(onemonth_df_pred[\"Predictions\"])\n",
    "onemonth_buy = onemonth_df_pred.loc[onemonth_df_pred[\"Predictions\"] == buy_price]\n",
    "onemonth_sell = onemonth_df_pred.loc[onemonth_df_pred[\"Predictions\"] == sell_price]\n",
    "print(\"Investment Strategy for next 1 month\")\n",
    "print(\"Buy price and date\")\n",
    "print(onemonth_buy)\n",
    "print(\"Sell price and date\")\n",
    "print(onemonth_sell)"
   ]
  },
  {
   "cell_type": "code",
   "execution_count": 34,
   "id": "6ce75255",
   "metadata": {},
   "outputs": [
    {
     "name": "stdout",
     "output_type": "stream",
     "text": [
      "Investment Strategy for next 1 week\n",
      "Buy price and date\n",
      "   Unnamed: 0  Predictions\n",
      "3  2022-06-03        30314\n",
      "Sell price and date\n",
      "   Unnamed: 0  Predictions\n",
      "4  2022-06-04        52633\n"
     ]
    }
   ],
   "source": [
    "predictions = pd.DataFrame({\"Predictions\": predict_svm}, index=pd.date_range(start=df.index[-1], periods=len(predict_svm), freq=\"D\"))\n",
    "predictions.to_csv(\"Predicted-price-data.csv\")\n",
    "#colllects future days from predicted values\n",
    "oneweek_df = pd.DataFrame(predictions[:5])\n",
    "oneweek_df.to_csv(\"oneweek-predictions.csv\")\n",
    "oneweek_df_pred = pd.read_csv(\"oneweek-predictions.csv\")\n",
    "buy_price = min(oneweek_df_pred[\"Predictions\"])\n",
    "sell_price = max(oneweek_df_pred[\"Predictions\"])\n",
    "oneweek_buy = oneweek_df_pred.loc[oneweek_df_pred[\"Predictions\"] == buy_price]\n",
    "oneweek_sell = oneweek_df_pred.loc[oneweek_df_pred[\"Predictions\"] == sell_price]\n",
    "print(\"Investment Strategy for next 1 week\")\n",
    "print(\"Buy price and date\")\n",
    "print(oneweek_buy)\n",
    "print(\"Sell price and date\")\n",
    "print(oneweek_sell)"
   ]
  },
  {
   "cell_type": "code",
   "execution_count": null,
   "id": "e8fda9b6",
   "metadata": {},
   "outputs": [],
   "source": []
  },
  {
   "cell_type": "code",
   "execution_count": null,
   "id": "bf5e9009",
   "metadata": {},
   "outputs": [],
   "source": []
  }
 ],
 "metadata": {
  "kernelspec": {
   "display_name": "Python 3 (ipykernel)",
   "language": "python",
   "name": "python3"
  },
  "language_info": {
   "codemirror_mode": {
    "name": "ipython",
    "version": 3
   },
   "file_extension": ".py",
   "mimetype": "text/x-python",
   "name": "python",
   "nbconvert_exporter": "python",
   "pygments_lexer": "ipython3",
   "version": "3.9.7"
  }
 },
 "nbformat": 4,
 "nbformat_minor": 5
}
