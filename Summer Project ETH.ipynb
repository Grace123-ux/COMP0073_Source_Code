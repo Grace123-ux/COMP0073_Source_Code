{
 "cells": [
  {
   "cell_type": "code",
   "execution_count": 1,
   "id": "6d96018b",
   "metadata": {},
   "outputs": [
    {
     "name": "stdout",
     "output_type": "stream",
     "text": [
      "[*********************100%***********************]  1 of 1 completed\n"
     ]
    }
   ],
   "source": [
    "import yfinance as yf\n",
    "import datetime as dt\n",
    "import numpy as np\n",
    "from numpy import arange\n",
    "import pandas as pd\n",
    "import matplotlib .pyplot as plt\n",
    "from pandas import read_csv\n",
    "from matplotlib import pyplot\n",
    "from sklearn.ensemble import RandomForestRegressor\n",
    "from sklearn.model_selection import train_test_split\n",
    "from sklearn import metrics\n",
    "from sklearn.preprocessing import StandardScaler\n",
    "from sklearn.model_selection import RandomizedSearchCV\n",
    "%matplotlib inline\n",
    "\n",
    "s2=\"ETH-USD\"\n",
    "s2_data=yf.download(s2,start=\"2021-06-01\",end=\"2022-06-01\")\n",
    "s2_df=pd.DataFrame(s2_data)\n",
    "s2_df.to_csv(\"s2_data.csv\")"
   ]
  },
  {
   "cell_type": "code",
   "execution_count": 2,
   "id": "b7bb7b2d",
   "metadata": {},
   "outputs": [
    {
     "data": {
      "text/html": [
       "<div>\n",
       "<style scoped>\n",
       "    .dataframe tbody tr th:only-of-type {\n",
       "        vertical-align: middle;\n",
       "    }\n",
       "\n",
       "    .dataframe tbody tr th {\n",
       "        vertical-align: top;\n",
       "    }\n",
       "\n",
       "    .dataframe thead th {\n",
       "        text-align: right;\n",
       "    }\n",
       "</style>\n",
       "<table border=\"1\" class=\"dataframe\">\n",
       "  <thead>\n",
       "    <tr style=\"text-align: right;\">\n",
       "      <th></th>\n",
       "      <th>Open</th>\n",
       "      <th>High</th>\n",
       "      <th>Low</th>\n",
       "      <th>Close</th>\n",
       "      <th>Adj Close</th>\n",
       "      <th>Volume</th>\n",
       "    </tr>\n",
       "    <tr>\n",
       "      <th>Date</th>\n",
       "      <th></th>\n",
       "      <th></th>\n",
       "      <th></th>\n",
       "      <th></th>\n",
       "      <th></th>\n",
       "      <th></th>\n",
       "    </tr>\n",
       "  </thead>\n",
       "  <tbody>\n",
       "    <tr>\n",
       "      <th>2021-05-31</th>\n",
       "      <td>2387.198486</td>\n",
       "      <td>2715.854980</td>\n",
       "      <td>2279.505127</td>\n",
       "      <td>2714.945312</td>\n",
       "      <td>2714.945312</td>\n",
       "      <td>31007383150</td>\n",
       "    </tr>\n",
       "    <tr>\n",
       "      <th>2021-06-01</th>\n",
       "      <td>2707.560547</td>\n",
       "      <td>2739.737549</td>\n",
       "      <td>2531.160645</td>\n",
       "      <td>2633.518311</td>\n",
       "      <td>2633.518311</td>\n",
       "      <td>27363223090</td>\n",
       "    </tr>\n",
       "    <tr>\n",
       "      <th>2021-06-02</th>\n",
       "      <td>2634.456055</td>\n",
       "      <td>2801.392334</td>\n",
       "      <td>2555.401367</td>\n",
       "      <td>2706.125000</td>\n",
       "      <td>2706.125000</td>\n",
       "      <td>27723267359</td>\n",
       "    </tr>\n",
       "    <tr>\n",
       "      <th>2021-06-03</th>\n",
       "      <td>2708.376221</td>\n",
       "      <td>2891.254883</td>\n",
       "      <td>2667.684326</td>\n",
       "      <td>2855.126465</td>\n",
       "      <td>2855.126465</td>\n",
       "      <td>30038207402</td>\n",
       "    </tr>\n",
       "    <tr>\n",
       "      <th>2021-06-04</th>\n",
       "      <td>2857.165527</td>\n",
       "      <td>2857.165527</td>\n",
       "      <td>2562.637451</td>\n",
       "      <td>2688.195068</td>\n",
       "      <td>2688.195068</td>\n",
       "      <td>34173841611</td>\n",
       "    </tr>\n",
       "    <tr>\n",
       "      <th>...</th>\n",
       "      <td>...</td>\n",
       "      <td>...</td>\n",
       "      <td>...</td>\n",
       "      <td>...</td>\n",
       "      <td>...</td>\n",
       "      <td>...</td>\n",
       "    </tr>\n",
       "    <tr>\n",
       "      <th>2022-05-27</th>\n",
       "      <td>1802.543823</td>\n",
       "      <td>1814.656494</td>\n",
       "      <td>1721.264771</td>\n",
       "      <td>1724.922852</td>\n",
       "      <td>1724.922852</td>\n",
       "      <td>25470760032</td>\n",
       "    </tr>\n",
       "    <tr>\n",
       "      <th>2022-05-28</th>\n",
       "      <td>1724.635986</td>\n",
       "      <td>1757.941772</td>\n",
       "      <td>1724.635986</td>\n",
       "      <td>1757.941772</td>\n",
       "      <td>1757.941772</td>\n",
       "      <td>23214777872</td>\n",
       "    </tr>\n",
       "    <tr>\n",
       "      <th>2022-05-29</th>\n",
       "      <td>1792.184448</td>\n",
       "      <td>1818.776611</td>\n",
       "      <td>1765.937378</td>\n",
       "      <td>1812.031006</td>\n",
       "      <td>1812.031006</td>\n",
       "      <td>10642556101</td>\n",
       "    </tr>\n",
       "    <tr>\n",
       "      <th>2022-05-30</th>\n",
       "      <td>1811.885986</td>\n",
       "      <td>2005.210815</td>\n",
       "      <td>1804.456055</td>\n",
       "      <td>1996.441284</td>\n",
       "      <td>1996.441284</td>\n",
       "      <td>19580808705</td>\n",
       "    </tr>\n",
       "    <tr>\n",
       "      <th>2022-05-31</th>\n",
       "      <td>1996.408081</td>\n",
       "      <td>2005.490967</td>\n",
       "      <td>1932.352051</td>\n",
       "      <td>1942.328003</td>\n",
       "      <td>1942.328003</td>\n",
       "      <td>18363115560</td>\n",
       "    </tr>\n",
       "  </tbody>\n",
       "</table>\n",
       "<p>366 rows × 6 columns</p>\n",
       "</div>"
      ],
      "text/plain": [
       "                   Open         High          Low        Close    Adj Close  \\\n",
       "Date                                                                          \n",
       "2021-05-31  2387.198486  2715.854980  2279.505127  2714.945312  2714.945312   \n",
       "2021-06-01  2707.560547  2739.737549  2531.160645  2633.518311  2633.518311   \n",
       "2021-06-02  2634.456055  2801.392334  2555.401367  2706.125000  2706.125000   \n",
       "2021-06-03  2708.376221  2891.254883  2667.684326  2855.126465  2855.126465   \n",
       "2021-06-04  2857.165527  2857.165527  2562.637451  2688.195068  2688.195068   \n",
       "...                 ...          ...          ...          ...          ...   \n",
       "2022-05-27  1802.543823  1814.656494  1721.264771  1724.922852  1724.922852   \n",
       "2022-05-28  1724.635986  1757.941772  1724.635986  1757.941772  1757.941772   \n",
       "2022-05-29  1792.184448  1818.776611  1765.937378  1812.031006  1812.031006   \n",
       "2022-05-30  1811.885986  2005.210815  1804.456055  1996.441284  1996.441284   \n",
       "2022-05-31  1996.408081  2005.490967  1932.352051  1942.328003  1942.328003   \n",
       "\n",
       "                 Volume  \n",
       "Date                     \n",
       "2021-05-31  31007383150  \n",
       "2021-06-01  27363223090  \n",
       "2021-06-02  27723267359  \n",
       "2021-06-03  30038207402  \n",
       "2021-06-04  34173841611  \n",
       "...                 ...  \n",
       "2022-05-27  25470760032  \n",
       "2022-05-28  23214777872  \n",
       "2022-05-29  10642556101  \n",
       "2022-05-30  19580808705  \n",
       "2022-05-31  18363115560  \n",
       "\n",
       "[366 rows x 6 columns]"
      ]
     },
     "execution_count": 2,
     "metadata": {},
     "output_type": "execute_result"
    }
   ],
   "source": [
    "s2_df"
   ]
  },
  {
   "cell_type": "code",
   "execution_count": 3,
   "id": "422fec16",
   "metadata": {},
   "outputs": [
    {
     "data": {
      "image/png": "[encoded data removed]",
      "text/plain": [
       "<Figure size 648x216 with 1 Axes>"
      ]
     },
     "metadata": {
      "needs_background": "light"
     },
     "output_type": "display_data"
    }
   ],
   "source": [
    "read_df=pd.read_csv(\"s2_data.csv\")\n",
    "read_df.set_index(\"Date\",inplace=True)\n",
    "plt.figure(figsize=(9,3))\n",
    "read_df['Adj Close'].plot()\n",
    "plt.title('Dataset prices of ETH')\n",
    "plt.ylabel(\"Adjusted Close Prices\")\n",
    "plt.show()"
   ]
  },
  {
   "cell_type": "code",
   "execution_count": 4,
   "id": "08b569a3",
   "metadata": {},
   "outputs": [
    {
     "data": {
      "text/html": [
       "<div>\n",
       "<style scoped>\n",
       "    .dataframe tbody tr th:only-of-type {\n",
       "        vertical-align: middle;\n",
       "    }\n",
       "\n",
       "    .dataframe tbody tr th {\n",
       "        vertical-align: top;\n",
       "    }\n",
       "\n",
       "    .dataframe thead th {\n",
       "        text-align: right;\n",
       "    }\n",
       "</style>\n",
       "<table border=\"1\" class=\"dataframe\">\n",
       "  <thead>\n",
       "    <tr style=\"text-align: right;\">\n",
       "      <th></th>\n",
       "      <th>Open</th>\n",
       "      <th>High</th>\n",
       "      <th>Low</th>\n",
       "      <th>Close</th>\n",
       "      <th>Adj Close</th>\n",
       "      <th>Volume</th>\n",
       "    </tr>\n",
       "    <tr>\n",
       "      <th>Date</th>\n",
       "      <th></th>\n",
       "      <th></th>\n",
       "      <th></th>\n",
       "      <th></th>\n",
       "      <th></th>\n",
       "      <th></th>\n",
       "    </tr>\n",
       "  </thead>\n",
       "  <tbody>\n",
       "    <tr>\n",
       "      <th>2021-05-31</th>\n",
       "      <td>2387.198486</td>\n",
       "      <td>2715.854980</td>\n",
       "      <td>2279.505127</td>\n",
       "      <td>2714.945312</td>\n",
       "      <td>2714.945312</td>\n",
       "      <td>31007383150</td>\n",
       "    </tr>\n",
       "    <tr>\n",
       "      <th>2021-06-01</th>\n",
       "      <td>2707.560547</td>\n",
       "      <td>2739.737549</td>\n",
       "      <td>2531.160645</td>\n",
       "      <td>2633.518311</td>\n",
       "      <td>2633.518311</td>\n",
       "      <td>27363223090</td>\n",
       "    </tr>\n",
       "    <tr>\n",
       "      <th>2021-06-02</th>\n",
       "      <td>2634.456055</td>\n",
       "      <td>2801.392334</td>\n",
       "      <td>2555.401367</td>\n",
       "      <td>2706.125000</td>\n",
       "      <td>2706.125000</td>\n",
       "      <td>27723267359</td>\n",
       "    </tr>\n",
       "    <tr>\n",
       "      <th>2021-06-03</th>\n",
       "      <td>2708.376221</td>\n",
       "      <td>2891.254883</td>\n",
       "      <td>2667.684326</td>\n",
       "      <td>2855.126465</td>\n",
       "      <td>2855.126465</td>\n",
       "      <td>30038207402</td>\n",
       "    </tr>\n",
       "    <tr>\n",
       "      <th>2021-06-04</th>\n",
       "      <td>2857.165527</td>\n",
       "      <td>2857.165527</td>\n",
       "      <td>2562.637451</td>\n",
       "      <td>2688.195068</td>\n",
       "      <td>2688.195068</td>\n",
       "      <td>34173841611</td>\n",
       "    </tr>\n",
       "    <tr>\n",
       "      <th>...</th>\n",
       "      <td>...</td>\n",
       "      <td>...</td>\n",
       "      <td>...</td>\n",
       "      <td>...</td>\n",
       "      <td>...</td>\n",
       "      <td>...</td>\n",
       "    </tr>\n",
       "    <tr>\n",
       "      <th>2022-05-27</th>\n",
       "      <td>1802.543823</td>\n",
       "      <td>1814.656494</td>\n",
       "      <td>1721.264771</td>\n",
       "      <td>1724.922852</td>\n",
       "      <td>1724.922852</td>\n",
       "      <td>25470760032</td>\n",
       "    </tr>\n",
       "    <tr>\n",
       "      <th>2022-05-28</th>\n",
       "      <td>1724.635986</td>\n",
       "      <td>1757.941772</td>\n",
       "      <td>1724.635986</td>\n",
       "      <td>1757.941772</td>\n",
       "      <td>1757.941772</td>\n",
       "      <td>23214777872</td>\n",
       "    </tr>\n",
       "    <tr>\n",
       "      <th>2022-05-29</th>\n",
       "      <td>1792.184448</td>\n",
       "      <td>1818.776611</td>\n",
       "      <td>1765.937378</td>\n",
       "      <td>1812.031006</td>\n",
       "      <td>1812.031006</td>\n",
       "      <td>10642556101</td>\n",
       "    </tr>\n",
       "    <tr>\n",
       "      <th>2022-05-30</th>\n",
       "      <td>1811.885986</td>\n",
       "      <td>2005.210815</td>\n",
       "      <td>1804.456055</td>\n",
       "      <td>1996.441284</td>\n",
       "      <td>1996.441284</td>\n",
       "      <td>19580808705</td>\n",
       "    </tr>\n",
       "    <tr>\n",
       "      <th>2022-05-31</th>\n",
       "      <td>1996.408081</td>\n",
       "      <td>2005.490967</td>\n",
       "      <td>1932.352051</td>\n",
       "      <td>1942.328003</td>\n",
       "      <td>1942.328003</td>\n",
       "      <td>18363115560</td>\n",
       "    </tr>\n",
       "  </tbody>\n",
       "</table>\n",
       "<p>366 rows × 6 columns</p>\n",
       "</div>"
      ],
      "text/plain": [
       "                   Open         High          Low        Close    Adj Close  \\\n",
       "Date                                                                          \n",
       "2021-05-31  2387.198486  2715.854980  2279.505127  2714.945312  2714.945312   \n",
       "2021-06-01  2707.560547  2739.737549  2531.160645  2633.518311  2633.518311   \n",
       "2021-06-02  2634.456055  2801.392334  2555.401367  2706.125000  2706.125000   \n",
       "2021-06-03  2708.376221  2891.254883  2667.684326  2855.126465  2855.126465   \n",
       "2021-06-04  2857.165527  2857.165527  2562.637451  2688.195068  2688.195068   \n",
       "...                 ...          ...          ...          ...          ...   \n",
       "2022-05-27  1802.543823  1814.656494  1721.264771  1724.922852  1724.922852   \n",
       "2022-05-28  1724.635986  1757.941772  1724.635986  1757.941772  1757.941772   \n",
       "2022-05-29  1792.184448  1818.776611  1765.937378  1812.031006  1812.031006   \n",
       "2022-05-30  1811.885986  2005.210815  1804.456055  1996.441284  1996.441284   \n",
       "2022-05-31  1996.408081  2005.490967  1932.352051  1942.328003  1942.328003   \n",
       "\n",
       "                 Volume  \n",
       "Date                     \n",
       "2021-05-31  31007383150  \n",
       "2021-06-01  27363223090  \n",
       "2021-06-02  27723267359  \n",
       "2021-06-03  30038207402  \n",
       "2021-06-04  34173841611  \n",
       "...                 ...  \n",
       "2022-05-27  25470760032  \n",
       "2022-05-28  23214777872  \n",
       "2022-05-29  10642556101  \n",
       "2022-05-30  19580808705  \n",
       "2022-05-31  18363115560  \n",
       "\n",
       "[366 rows x 6 columns]"
      ]
     },
     "execution_count": 4,
     "metadata": {},
     "output_type": "execute_result"
    }
   ],
   "source": [
    "df = pd.read_csv(\"s2_data.csv\")\n",
    "df.set_index(\"Date\", inplace=True)\n",
    "df.dropna()"
   ]
  },
  {
   "cell_type": "code",
   "execution_count": 5,
   "id": "4ac08b67",
   "metadata": {},
   "outputs": [],
   "source": [
    "x = df.iloc[:, 0:5].values # open, high, low, close, adj-close\n",
    "y = df.iloc[:, 4].values #adj-close\n",
    "#there are five features we will need. "
   ]
  },
  {
   "cell_type": "code",
   "execution_count": 6,
   "id": "bfd1e4df",
   "metadata": {},
   "outputs": [
    {
     "data": {
      "text/plain": [
       "(366,)"
      ]
     },
     "execution_count": 6,
     "metadata": {},
     "output_type": "execute_result"
    }
   ],
   "source": [
    "x.shape# the length of the array\n",
    "y.shape"
   ]
  },
  {
   "cell_type": "code",
   "execution_count": 7,
   "id": "0ed9a06d",
   "metadata": {},
   "outputs": [],
   "source": [
    "x_train, x_test, y_train, y_test = train_test_split(x, y, test_size=0.3,  random_state=100)\n",
    "# Split arrays and matrices into random train and test subsets.\n",
    "# The test_size represents the proportion of the dataset to include in the test split.Here we use 0.3"
   ]
  },
  {
   "cell_type": "code",
   "execution_count": 8,
   "id": "a7cf53ec",
   "metadata": {},
   "outputs": [],
   "source": [
    "rf_model = RandomForestRegressor(n_estimators=100, max_depth=2, max_features=4, random_state=10)\n",
    "rf_model.fit(x_train, y_train)\n",
    "predict_rf = rf_model.predict(x_test)"
   ]
  },
  {
   "cell_type": "code",
   "execution_count": 9,
   "id": "46db3a12",
   "metadata": {},
   "outputs": [
    {
     "name": "stdout",
     "output_type": "stream",
     "text": [
      "Accuracy Evaluation\n",
      "Mean Absolute Error: 144.5018\n",
      "Mean Squared Error: 31547.9081\n",
      "Root Mean Squared Error: 177.6173\n",
      "(R^2) Score: 0.9528\n",
      "Train Score : 95.44% and Test Score : 95.28% using Random Tree Regressor.\n",
      "Accuracy: 95.0071 %.\n"
     ]
    }
   ],
   "source": [
    "#RF accuracy\n",
    "print(\"Accuracy Evaluation\")\n",
    "print(\"Mean Absolute Error:\", round(metrics.mean_absolute_error(y_test, predict_rf), 4))\n",
    "print(\"Mean Squared Error:\", round(metrics.mean_squared_error(y_test, predict_rf), 4))\n",
    "print(\"Root Mean Squared Error:\", round(np.sqrt(metrics.mean_squared_error(y_test, predict_rf)), 4))\n",
    "print(\"(R^2) Score:\", round(metrics.r2_score(y_test, predict_rf), 4))\n",
    "print(f'Train Score : {rf_model.score(x_train, y_train) * 100:.2f}% and Test Score : {rf_model.score(x_test, y_test) * 100:.2f}% using Random Tree Regressor.')\n",
    "errors = abs(predict_rf - y_test)\n",
    "mape = 100 * (errors / y_test)\n",
    "accuracy = 100 - np.mean(mape)\n",
    "print('Accuracy:', round(accuracy, 4), '%.') "
   ]
  },
  {
   "cell_type": "code",
   "execution_count": 10,
   "id": "0e778b11",
   "metadata": {},
   "outputs": [],
   "source": [
    "#SVM\n",
    "from sklearn import svm\n",
    "\n",
    "svm_clf = svm.SVC(probability=True)\n",
    "svm_clf.fit(x, y.astype('int'))\n",
    "predict_svm = svm_clf.predict(x_test)"
   ]
  },
  {
   "cell_type": "code",
   "execution_count": 11,
   "id": "adcfe2d0",
   "metadata": {},
   "outputs": [
    {
     "name": "stdout",
     "output_type": "stream",
     "text": [
      "SVM\n",
      "Mean Absolute Error: 152.5057\n",
      "Mean Squared Error: 37218.2061\n",
      "Root Mean Squared Error: 192.9202\n",
      "(R^2) Score: 0.9443\n",
      "Accuracy: 95.1849 %.\n"
     ]
    }
   ],
   "source": [
    "print(\"SVM\")\n",
    "print(\"Mean Absolute Error:\", round(metrics.mean_absolute_error(y_test, predict_svm), 4))\n",
    "print(\"Mean Squared Error:\", round(metrics.mean_squared_error(y_test, predict_svm), 4))\n",
    "print(\"Root Mean Squared Error:\", round(np.sqrt(metrics.mean_squared_error(y_test, predict_svm)), 4))\n",
    "print(\"(R^2) Score:\", round(metrics.r2_score(y_test, predict_svm), 4))\n",
    "svm_errors = abs(predict_svm - y_test)\n",
    "svm_mape = 100 * (svm_errors / y_test)\n",
    "accuracy = 100 - np.mean(svm_mape)\n",
    "print('Accuracy:', round(accuracy, 4), '%.') "
   ]
  },
  {
   "cell_type": "code",
   "execution_count": 12,
   "id": "5e0e592b",
   "metadata": {},
   "outputs": [],
   "source": [
    "#LR model\n",
    "y_train=y_train.astype('int')#change train dataset into integers\n",
    "x_train=x_train.astype('int')#change train dataset into integers"
   ]
  },
  {
   "cell_type": "code",
   "execution_count": 13,
   "id": "2b595ad5",
   "metadata": {},
   "outputs": [
    {
     "name": "stdout",
     "output_type": "stream",
     "text": [
      "multiclass\n"
     ]
    }
   ],
   "source": [
    "from sklearn.linear_model import LogisticRegression\n",
    "lr=LogisticRegression(solver='liblinear')\n",
    "lr.fit(x_train,y_train)\n",
    "predict_lr=lr.predict(x_test)\n",
    "from sklearn import preprocessing\n",
    "label_encoder=preprocessing.LabelEncoder()\n",
    "y_train=label_encoder.fit_transform(y_train)\n",
    "from sklearn import utils\n",
    "print(utils.multiclass.type_of_target(y_train))"
   ]
  },
  {
   "cell_type": "code",
   "execution_count": 14,
   "id": "c9a4edd8",
   "metadata": {},
   "outputs": [
    {
     "name": "stdout",
     "output_type": "stream",
     "text": [
      "Logistic Regression\n",
      "Mean Absolute Error: 816.3262\n",
      "Mean Squared Error: 966536.255\n",
      "Root Mean Squared Error: 983.1258\n",
      "(R^2) Score: -0.4467\n",
      "Accuracy: 70.6378 %\n"
     ]
    }
   ],
   "source": [
    "print(\"Logistic Regression\")\n",
    "print(\"Mean Absolute Error:\", round(metrics.mean_absolute_error(y_test, predict_lr), 4))\n",
    "print(\"Mean Squared Error:\", round(metrics.mean_squared_error(y_test, predict_lr), 4))\n",
    "print(\"Root Mean Squared Error:\", round(np.sqrt(metrics.mean_squared_error(y_test, predict_lr)), 4))\n",
    "print(\"(R^2) Score:\", round(metrics.r2_score(y_test, predict_lr), 4))\n",
    "errors = abs(predict_lr - y_test)\n",
    "mape = 100* (errors / y_test)\n",
    "accuracy = 100 - np.mean(mape)\n",
    "print('Accuracy:', round(accuracy, 4),'%') "
   ]
  },
  {
   "cell_type": "code",
   "execution_count": 15,
   "id": "c6d1d3a4",
   "metadata": {},
   "outputs": [
    {
     "data": {
      "image/png": "[encoded data removed]",
      "text/plain": [
       "<Figure size 360x216 with 1 Axes>"
      ]
     },
     "metadata": {
      "needs_background": "light"
     },
     "output_type": "display_data"
    }
   ],
   "source": [
    "#ETH-1-week comparison,there are five trading days in one week.\n",
    "predict_rf_oneweek=predict_rf[:5]\n",
    "predict_svm_oneweek=predict_svm[:5]\n",
    "predict_lr_oneweek=predict_lr[:5]\n",
    "plt.figure(figsize=(5,3))\n",
    "x=np.arange(5)\n",
    "plt.ylim([0,6000])\n",
    "plt.plot(x, predict_rf_oneweek,color='black',linewidth=0.5)\n",
    "plt.plot(x,predict_svm_oneweek,color='green',linewidth=0.5)\n",
    "plt.plot(x,predict_lr_oneweek,color='blue',linewidth=0.5)\n",
    "plt.legend(['RF','SVM','LR (Benchmark)'],loc='lower right')\n",
    "plt.title('One-Week prediction for ETH price ')\n",
    "x_ticks=np.arange(0,5,1)\n",
    "plt.xticks(x_ticks)\n",
    "index_ls=['02/06','03/06','06/06','07/06','08/06']\n",
    "plt.xticks(x,index_ls)\n",
    "plt.xlabel(\"Date\")\n",
    "plt.ylabel(\"Price\")\n",
    "\n",
    "plt.show()"
   ]
  },
  {
   "cell_type": "code",
   "execution_count": 16,
   "id": "261901e7",
   "metadata": {},
   "outputs": [
    {
     "name": "stdout",
     "output_type": "stream",
     "text": [
      "one-week\n",
      "LR\n",
      "RMSE: 873.5\n",
      "(R^2) Score: -0.15\n",
      "Accuracy: 72.26 %\n",
      "RF\n",
      "RMSE: 112.61\n",
      "(R^2) Score: 0.98\n",
      "Accuracy: 96.2 %\n",
      "SVM\n",
      "RMSE: 129.16\n",
      "(R^2) Score: 0.97\n",
      "Accuracy: 96.91 %\n"
     ]
    }
   ],
   "source": [
    "#one-week accuracy\n",
    "print('one-week')\n",
    "y_test1=y_test[:5]\n",
    "print('LR')\n",
    "print(\"RMSE:\", round(np.sqrt(metrics.mean_squared_error(y_test1, predict_lr_oneweek)), 2))\n",
    "print(\"(R^2) Score:\", round(metrics.r2_score(y_test1, predict_lr_oneweek), 2))\n",
    "errors = abs(predict_lr_oneweek - y_test1)\n",
    "mape = 100* (errors / y_test1)\n",
    "accuracy = 100 - np.mean(mape)\n",
    "print('Accuracy:', round(accuracy, 2),'%') \n",
    "\n",
    "print('RF')\n",
    "print(\"RMSE:\", round(np.sqrt(metrics.mean_squared_error(y_test1, predict_rf_oneweek)), 2))\n",
    "print(\"(R^2) Score:\", round(metrics.r2_score(y_test1, predict_rf_oneweek), 2))\n",
    "errors = abs(predict_rf_oneweek - y_test1)\n",
    "mape = 100* (errors / y_test1)\n",
    "accuracy = 100 - np.mean(mape)\n",
    "print('Accuracy:', round(accuracy, 2),'%') \n",
    "\n",
    "print('SVM')\n",
    "print(\"RMSE:\", round(np.sqrt(metrics.mean_squared_error(y_test1, predict_svm_oneweek)), 2))\n",
    "print(\"(R^2) Score:\", round(metrics.r2_score(y_test1, predict_svm_oneweek), 2))\n",
    "errors = abs(predict_svm_oneweek - y_test1)\n",
    "mape = 100* (errors / y_test1)\n",
    "accuracy = 100 - np.mean(mape)\n",
    "print('Accuracy:', round(accuracy, 2),'%') "
   ]
  },
  {
   "cell_type": "code",
   "execution_count": 17,
   "id": "ada9f551",
   "metadata": {},
   "outputs": [
    {
     "data": {
      "image/png": "[encoded data removed]",
      "text/plain": [
       "<Figure size 936x216 with 1 Axes>"
      ]
     },
     "metadata": {
      "needs_background": "light"
     },
     "output_type": "display_data"
    }
   ],
   "source": [
    "#ETH-1-month comparison,there are 22 trading days in one month.\n",
    "predict_rf_onemonth=predict_rf[:22]\n",
    "predict_svm_onemonth=predict_svm[:22]\n",
    "predict_lr_onemonth=predict_lr[:22]\n",
    "plt.figure(figsize=(13,3))\n",
    "x=np.arange(0,22,1)\n",
    "plt.ylim([0,5000])\n",
    "plt.plot(x, predict_rf_onemonth,color='black',linewidth=0.5)\n",
    "plt.plot(x,predict_svm_onemonth,color='green',linewidth=0.5)\n",
    "plt.plot(x,predict_lr_onemonth,color='blue',linewidth=0.5)\n",
    "plt.legend(['RF','SVM','LR (Benchmark)'],loc='lower right')\n",
    "plt.title('One-Month prediction for ETH price')\n",
    "x_ticks=np.arange(0,22,1)\n",
    "plt.xticks(x_ticks)\n",
    "index_ls=['02/06','03/06','06/06','07/06','08/06','09/06','10/06','13/06','14/06','15/06','16/06','17/06','20/06','21/06','22/06','23/06','24/06','27/06','28/06','29/06','30/06','01/07']\n",
    "\n",
    "plt.xticks(x,index_ls)\n",
    "plt.xlabel(\"Date\")\n",
    "plt.ylabel(\"Price\")\n",
    "\n",
    "plt.show()"
   ]
  },
  {
   "cell_type": "code",
   "execution_count": 18,
   "id": "f92f92f5",
   "metadata": {},
   "outputs": [
    {
     "name": "stdout",
     "output_type": "stream",
     "text": [
      "one-month\n",
      "LR\n",
      "RMSE: 760.8\n",
      "(R^2) Score: 0.03\n",
      "Accuracy: 76.37 %\n",
      "RF\n",
      "RMSE: 180.92\n",
      "(R^2) Score: 0.95\n",
      "Accuracy: 94.17 %\n",
      "SVM\n",
      "RMSE: 172.8\n",
      "(R^2) Score: 0.95\n",
      "Accuracy: 95.24 %\n"
     ]
    }
   ],
   "source": [
    "#one-month accuracy\n",
    "print('one-month')\n",
    "y_test2=y_test[:22]\n",
    "print('LR')\n",
    "print(\"RMSE:\", round(np.sqrt(metrics.mean_squared_error(y_test2, predict_lr_onemonth)), 2))\n",
    "print(\"(R^2) Score:\", round(metrics.r2_score(y_test2, predict_lr_onemonth), 2))\n",
    "errors = abs(predict_lr_onemonth - y_test2)\n",
    "mape = 100* (errors / y_test2)\n",
    "accuracy = 100 - np.mean(mape)\n",
    "print('Accuracy:', round(accuracy, 2),'%') \n",
    "\n",
    "print('RF')\n",
    "print(\"RMSE:\", round(np.sqrt(metrics.mean_squared_error(y_test2, predict_rf_onemonth)), 2))\n",
    "print(\"(R^2) Score:\", round(metrics.r2_score(y_test2, predict_rf_onemonth), 2))\n",
    "errors = abs(predict_rf_onemonth - y_test2)\n",
    "mape = 100* (errors / y_test2)\n",
    "accuracy = 100 - np.mean(mape)\n",
    "print('Accuracy:', round(accuracy, 2),'%') \n",
    "\n",
    "print('SVM')\n",
    "print(\"RMSE:\", round(np.sqrt(metrics.mean_squared_error(y_test2, predict_svm_onemonth)), 2))\n",
    "print(\"(R^2) Score:\", round(metrics.r2_score(y_test2, predict_svm_onemonth), 2))\n",
    "errors = abs(predict_svm_onemonth - y_test2)\n",
    "mape = 100* (errors / y_test2)\n",
    "accuracy = 100 - np.mean(mape)\n",
    "print('Accuracy:', round(accuracy, 2),'%') "
   ]
  },
  {
   "cell_type": "code",
   "execution_count": 19,
   "id": "90a633ff",
   "metadata": {},
   "outputs": [
    {
     "data": {
      "image/png": "[encoded data removed]",
      "text/plain": [
       "<Figure size 360x216 with 1 Axes>"
      ]
     },
     "metadata": {
      "needs_background": "light"
     },
     "output_type": "display_data"
    }
   ],
   "source": [
    "#ETH-3-month comparison,there are 64 trading days in three months.\n",
    "predict_rf_threemonth=predict_rf[:64]\n",
    "predict_svm_threemonth=predict_svm[:64]\n",
    "predict_lr_threemonth=predict_lr[:64]\n",
    "plt.figure(figsize=(5,3))\n",
    "x=np.arange(0,64,1)\n",
    "plt.ylim([0,5000])\n",
    "plt.plot(x, predict_rf_threemonth,color='black',linewidth=0.5)\n",
    "plt.plot(x,predict_svm_threemonth,color='green',linewidth=0.5)\n",
    "plt.plot(x,predict_lr_threemonth,color='blue',linewidth=0.5)\n",
    "plt.legend(['RF','SVM','LR (Benchmark)'],loc='lower right')\n",
    "plt.title('Three-Months prediction for ETH price')\n",
    "plt.xlabel(\"Date\")\n",
    "plt.ylabel(\"Price\")\n",
    "\n",
    "plt.show()"
   ]
  },
  {
   "cell_type": "code",
   "execution_count": 20,
   "id": "ab4538a5",
   "metadata": {},
   "outputs": [
    {
     "name": "stdout",
     "output_type": "stream",
     "text": [
      "Three-Month\n",
      "LR\n",
      "RMSE: 977.11\n",
      "(R^2) Score: -0.38\n",
      "Accuracy: 72.19 %\n",
      "RF\n",
      "RMSE: 196.27\n",
      "(R^2) Score: 0.94\n",
      "Accuracy: 94.86 %\n",
      "SVM\n",
      "RMSE: 193.67\n",
      "(R^2) Score: 0.95\n",
      "Accuracy: 95.49 %\n"
     ]
    }
   ],
   "source": [
    "#Three-month accuracy\n",
    "print('Three-Month')\n",
    "y_test3=y_test[:64]\n",
    "print('LR')\n",
    "print(\"RMSE:\", round(np.sqrt(metrics.mean_squared_error(y_test3, predict_lr_threemonth)), 2))\n",
    "print(\"(R^2) Score:\", round(metrics.r2_score(y_test3, predict_lr_threemonth), 2))\n",
    "errors = abs(predict_lr_threemonth - y_test3)\n",
    "mape = 100* (errors / y_test3)\n",
    "accuracy = 100 - np.mean(mape)\n",
    "print('Accuracy:', round(accuracy, 2),'%') \n",
    "\n",
    "print('RF')\n",
    "print(\"RMSE:\", round(np.sqrt(metrics.mean_squared_error(y_test3, predict_rf_threemonth)), 2))\n",
    "print(\"(R^2) Score:\", round(metrics.r2_score(y_test3, predict_rf_threemonth), 2))\n",
    "errors = abs(predict_rf_threemonth - y_test3)\n",
    "mape = 100* (errors / y_test3)\n",
    "accuracy = 100 - np.mean(mape)\n",
    "print('Accuracy:', round(accuracy, 2),'%') \n",
    "\n",
    "print('SVM')\n",
    "print(\"RMSE:\", round(np.sqrt(metrics.mean_squared_error(y_test3, predict_svm_threemonth)), 2))\n",
    "print(\"(R^2) Score:\", round(metrics.r2_score(y_test3, predict_svm_threemonth), 2))\n",
    "errors = abs(predict_svm_threemonth - y_test3)\n",
    "mape = 100* (errors / y_test3)\n",
    "accuracy = 100 - np.mean(mape)\n",
    "print('Accuracy:', round(accuracy, 2),'%') "
   ]
  },
  {
   "cell_type": "code",
   "execution_count": 23,
   "id": "1b331828",
   "metadata": {},
   "outputs": [
    {
     "name": "stdout",
     "output_type": "stream",
     "text": [
      "Investment Strategy for next 1 week\n",
      "Buy price and date\n",
      "   Unnamed: 0  Predictions\n",
      "3  2022-06-03         1978\n",
      "Sell price and date\n",
      "   Unnamed: 0  Predictions\n",
      "0  2022-05-31         4287\n"
     ]
    }
   ],
   "source": [
    "predictions = pd.DataFrame({\"Predictions\": predict_svm}, index=pd.date_range(start=df.index[-1], periods=len(predict_svm), freq=\"D\"))\n",
    "predictions.to_csv(\"Predicted-price-data.csv\")\n",
    "#colllects future days from predicted values\n",
    "oneweek_df = pd.DataFrame(predictions[:5])\n",
    "oneweek_df.to_csv(\"oneweek-predictions.csv\")\n",
    "oneweek_df_pred = pd.read_csv(\"oneweek-predictions.csv\")\n",
    "buy_price = min(oneweek_df_pred[\"Predictions\"])\n",
    "sell_price = max(oneweek_df_pred[\"Predictions\"])\n",
    "oneweek_buy = oneweek_df_pred.loc[oneweek_df_pred[\"Predictions\"] == buy_price]\n",
    "oneweek_sell = oneweek_df_pred.loc[oneweek_df_pred[\"Predictions\"] == sell_price]\n",
    "print(\"Investment Strategy for next 1 week\")\n",
    "print(\"Buy price and date\")\n",
    "print(oneweek_buy)\n",
    "print(\"Sell price and date\")\n",
    "print(oneweek_sell)"
   ]
  },
  {
   "cell_type": "code",
   "execution_count": null,
   "id": "1c3f37e8",
   "metadata": {},
   "outputs": [],
   "source": [
    "predictions = pd.DataFrame({\"Predictions\": predict_svm}, index=pd.date_range(start=df.index[-1], periods=len(predict_svm), freq=\"D\"))\n",
    "\n",
    "predictions.to_csv(\"Predicted-price-data.csv\")\n",
    "#colllects future days from predicted values\n",
    "\n",
    "onemonth_df = pd.DataFrame(predictions[:22])\n",
    "onemonth_df.to_csv(\"one-month-predictions.csv\")\n",
    "\n",
    "\n",
    "onemonth_df_pred = pd.read_csv(\"one-month-predictions.csv\")\n",
    "\n",
    "buy_price = min(onemonth_df_pred[\"Predictions\"])\n",
    "sell_price = max(onemonth_df_pred[\"Predictions\"])\n",
    "onemonth_buy = onemonth_df_pred.loc[onemonth_df_pred[\"Predictions\"] == buy_price]\n",
    "onemonth_sell = onemonth_df_pred.loc[onemonth_df_pred[\"Predictions\"] == sell_price]\n",
    "print(\"Investment Strategy for next 1 month\")\n",
    "print(\"Buy price and date\")\n",
    "print(onemonth_buy)\n",
    "print(\"Sell price and date\")\n",
    "print(onemonth_sell)"
   ]
  },
  {
   "cell_type": "code",
   "execution_count": 25,
   "id": "f9581bb8",
   "metadata": {},
   "outputs": [
    {
     "name": "stdout",
     "output_type": "stream",
     "text": [
      "Investment Strategy for next 3 month\n",
      "Buy price and date\n",
      "    Unnamed: 0  Predictions\n",
      "17  2022-06-17         1961\n",
      "19  2022-06-19         1961\n",
      "36  2022-07-06         1961\n",
      "39  2022-07-09         1961\n",
      "Sell price and date\n",
      "    Unnamed: 0  Predictions\n",
      "0   2022-05-31         4287\n",
      "6   2022-06-06         4287\n",
      "8   2022-06-08         4287\n",
      "22  2022-06-22         4287\n",
      "23  2022-06-23         4287\n",
      "27  2022-06-27         4287\n",
      "33  2022-07-03         4287\n",
      "40  2022-07-10         4287\n",
      "43  2022-07-13         4287\n",
      "45  2022-07-15         4287\n",
      "49  2022-07-19         4287\n",
      "50  2022-07-20         4287\n",
      "53  2022-07-23         4287\n",
      "55  2022-07-25         4287\n",
      "61  2022-07-31         4287\n"
     ]
    }
   ],
   "source": [
    "predictions = pd.DataFrame({\"Predictions\": predict_svm}, index=pd.date_range(start=df.index[-1], periods=len(predict_svm), freq=\"D\"))\n",
    "predictions.to_csv(\"Predicted-price-data.csv\")\n",
    "#colllects future days from predicted values\n",
    "threemonth_df = pd.DataFrame(predictions[:63])\n",
    "threemonth_df.to_csv(\"three-month-predictions.csv\")\n",
    "threemonth_df_pred = pd.read_csv(\"three-month-predictions.csv\")\n",
    "buy_price = min(threemonth_df_pred[\"Predictions\"])\n",
    "sell_price = max(threemonth_df_pred[\"Predictions\"])\n",
    "threemonth_buy = threemonth_df_pred.loc[threemonth_df_pred[\"Predictions\"] == buy_price]\n",
    "threemonth_sell = threemonth_df_pred.loc[threemonth_df_pred[\"Predictions\"] == sell_price]\n",
    "print(\"Investment Strategy for next 3 month\")\n",
    "print(\"Buy price and date\")\n",
    "print(threemonth_buy)\n",
    "print(\"Sell price and date\")\n",
    "print(threemonth_sell)"
   ]
  },
  {
   "cell_type": "code",
   "execution_count": null,
   "id": "566a77a6",
   "metadata": {},
   "outputs": [],
   "source": []
  }
 ],
 "metadata": {
  "kernelspec": {
   "display_name": "Python 3 (ipykernel)",
   "language": "python",
   "name": "python3"
  },
  "language_info": {
   "codemirror_mode": {
    "name": "ipython",
    "version": 3
   },
   "file_extension": ".py",
   "mimetype": "text/x-python",
   "name": "python",
   "nbconvert_exporter": "python",
   "pygments_lexer": "ipython3",
   "version": "3.9.7"
  }
 },
 "nbformat": 4,
 "nbformat_minor": 5
}
