{
 "cells": [
  {
   "cell_type": "code",
   "execution_count": 1,
   "id": "2f05347f",
   "metadata": {},
   "outputs": [
    {
     "name": "stdout",
     "output_type": "stream",
     "text": [
      "[*********************100%***********************]  1 of 1 completed\n"
     ]
    }
   ],
   "source": [
    "import yfinance as yf\n",
    "import datetime as dt\n",
    "import numpy as np\n",
    "from numpy import arange\n",
    "import pandas as pd\n",
    "import matplotlib .pyplot as plt\n",
    "from pandas import read_csv\n",
    "from matplotlib import pyplot\n",
    "from sklearn.ensemble import RandomForestRegressor\n",
    "from sklearn.model_selection import train_test_split\n",
    "from sklearn import metrics\n",
    "from sklearn.preprocessing import StandardScaler\n",
    "from sklearn.model_selection import RandomizedSearchCV\n",
    "%matplotlib inline\n",
    "\n",
    "s3=\"BNB-USD\"\n",
    "s3_data=yf.download(s3,start=\"2021-06-01\",end=\"2022-06-01\")\n",
    "s3_df=pd.DataFrame(s3_data)\n",
    "s3_df.to_csv(\"s3_data.csv\")"
   ]
  },
  {
   "cell_type": "code",
   "execution_count": 2,
   "id": "7c3ec554",
   "metadata": {},
   "outputs": [
    {
     "data": {
      "image/png": "[encoded data removed]",
      "text/plain": [
       "<Figure size 648x216 with 1 Axes>"
      ]
     },
     "metadata": {
      "needs_background": "light"
     },
     "output_type": "display_data"
    }
   ],
   "source": [
    "read_df=pd.read_csv(\"s3_data.csv\")\n",
    "read_df.set_index(\"Date\",inplace=True)\n",
    "plt.figure(figsize=(9,3))\n",
    "read_df['Adj Close'].plot()\n",
    "plt.title('Dataset prices of BNB')\n",
    "plt.ylabel(\"Adjusted Close Prices\")\n",
    "plt.show()"
   ]
  },
  {
   "cell_type": "code",
   "execution_count": 3,
   "id": "b847a79a",
   "metadata": {},
   "outputs": [
    {
     "data": {
      "text/html": [
       "<div>\n",
       "<style scoped>\n",
       "    .dataframe tbody tr th:only-of-type {\n",
       "        vertical-align: middle;\n",
       "    }\n",
       "\n",
       "    .dataframe tbody tr th {\n",
       "        vertical-align: top;\n",
       "    }\n",
       "\n",
       "    .dataframe thead th {\n",
       "        text-align: right;\n",
       "    }\n",
       "</style>\n",
       "<table border=\"1\" class=\"dataframe\">\n",
       "  <thead>\n",
       "    <tr style=\"text-align: right;\">\n",
       "      <th></th>\n",
       "      <th>Open</th>\n",
       "      <th>High</th>\n",
       "      <th>Low</th>\n",
       "      <th>Close</th>\n",
       "      <th>Adj Close</th>\n",
       "      <th>Volume</th>\n",
       "    </tr>\n",
       "    <tr>\n",
       "      <th>Date</th>\n",
       "      <th></th>\n",
       "      <th></th>\n",
       "      <th></th>\n",
       "      <th></th>\n",
       "      <th></th>\n",
       "      <th></th>\n",
       "    </tr>\n",
       "  </thead>\n",
       "  <tbody>\n",
       "    <tr>\n",
       "      <th>2021-05-31</th>\n",
       "      <td>325.808136</td>\n",
       "      <td>355.977142</td>\n",
       "      <td>307.944031</td>\n",
       "      <td>354.329346</td>\n",
       "      <td>354.329346</td>\n",
       "      <td>3865691845</td>\n",
       "    </tr>\n",
       "    <tr>\n",
       "      <th>2021-06-01</th>\n",
       "      <td>353.782532</td>\n",
       "      <td>364.320129</td>\n",
       "      <td>340.474243</td>\n",
       "      <td>362.794647</td>\n",
       "      <td>362.794647</td>\n",
       "      <td>3425775257</td>\n",
       "    </tr>\n",
       "    <tr>\n",
       "      <th>2021-06-02</th>\n",
       "      <td>362.360870</td>\n",
       "      <td>418.665131</td>\n",
       "      <td>350.956787</td>\n",
       "      <td>401.262329</td>\n",
       "      <td>401.262329</td>\n",
       "      <td>4486850584</td>\n",
       "    </tr>\n",
       "    <tr>\n",
       "      <th>2021-06-03</th>\n",
       "      <td>401.760834</td>\n",
       "      <td>432.308105</td>\n",
       "      <td>392.033173</td>\n",
       "      <td>427.807922</td>\n",
       "      <td>427.807922</td>\n",
       "      <td>4370188399</td>\n",
       "    </tr>\n",
       "    <tr>\n",
       "      <th>2021-06-04</th>\n",
       "      <td>428.187378</td>\n",
       "      <td>428.443146</td>\n",
       "      <td>366.274841</td>\n",
       "      <td>391.395325</td>\n",
       "      <td>391.395325</td>\n",
       "      <td>4951450795</td>\n",
       "    </tr>\n",
       "    <tr>\n",
       "      <th>...</th>\n",
       "      <td>...</td>\n",
       "      <td>...</td>\n",
       "      <td>...</td>\n",
       "      <td>...</td>\n",
       "      <td>...</td>\n",
       "      <td>...</td>\n",
       "    </tr>\n",
       "    <tr>\n",
       "      <th>2022-05-27</th>\n",
       "      <td>304.790833</td>\n",
       "      <td>308.864929</td>\n",
       "      <td>292.141876</td>\n",
       "      <td>300.972046</td>\n",
       "      <td>300.972046</td>\n",
       "      <td>2593113824</td>\n",
       "    </tr>\n",
       "    <tr>\n",
       "      <th>2022-05-28</th>\n",
       "      <td>302.435028</td>\n",
       "      <td>309.209045</td>\n",
       "      <td>297.716919</td>\n",
       "      <td>307.815430</td>\n",
       "      <td>307.815430</td>\n",
       "      <td>1471633413</td>\n",
       "    </tr>\n",
       "    <tr>\n",
       "      <th>2022-05-29</th>\n",
       "      <td>307.752533</td>\n",
       "      <td>307.944397</td>\n",
       "      <td>299.306183</td>\n",
       "      <td>305.975067</td>\n",
       "      <td>305.975067</td>\n",
       "      <td>1208835000</td>\n",
       "    </tr>\n",
       "    <tr>\n",
       "      <th>2022-05-30</th>\n",
       "      <td>305.944092</td>\n",
       "      <td>323.257782</td>\n",
       "      <td>304.336578</td>\n",
       "      <td>321.752899</td>\n",
       "      <td>321.752899</td>\n",
       "      <td>2064357375</td>\n",
       "    </tr>\n",
       "    <tr>\n",
       "      <th>2022-05-31</th>\n",
       "      <td>321.720306</td>\n",
       "      <td>323.701355</td>\n",
       "      <td>314.275513</td>\n",
       "      <td>320.485107</td>\n",
       "      <td>320.485107</td>\n",
       "      <td>1711532960</td>\n",
       "    </tr>\n",
       "  </tbody>\n",
       "</table>\n",
       "<p>366 rows × 6 columns</p>\n",
       "</div>"
      ],
      "text/plain": [
       "                  Open        High         Low       Close   Adj Close  \\\n",
       "Date                                                                     \n",
       "2021-05-31  325.808136  355.977142  307.944031  354.329346  354.329346   \n",
       "2021-06-01  353.782532  364.320129  340.474243  362.794647  362.794647   \n",
       "2021-06-02  362.360870  418.665131  350.956787  401.262329  401.262329   \n",
       "2021-06-03  401.760834  432.308105  392.033173  427.807922  427.807922   \n",
       "2021-06-04  428.187378  428.443146  366.274841  391.395325  391.395325   \n",
       "...                ...         ...         ...         ...         ...   \n",
       "2022-05-27  304.790833  308.864929  292.141876  300.972046  300.972046   \n",
       "2022-05-28  302.435028  309.209045  297.716919  307.815430  307.815430   \n",
       "2022-05-29  307.752533  307.944397  299.306183  305.975067  305.975067   \n",
       "2022-05-30  305.944092  323.257782  304.336578  321.752899  321.752899   \n",
       "2022-05-31  321.720306  323.701355  314.275513  320.485107  320.485107   \n",
       "\n",
       "                Volume  \n",
       "Date                    \n",
       "2021-05-31  3865691845  \n",
       "2021-06-01  3425775257  \n",
       "2021-06-02  4486850584  \n",
       "2021-06-03  4370188399  \n",
       "2021-06-04  4951450795  \n",
       "...                ...  \n",
       "2022-05-27  2593113824  \n",
       "2022-05-28  1471633413  \n",
       "2022-05-29  1208835000  \n",
       "2022-05-30  2064357375  \n",
       "2022-05-31  1711532960  \n",
       "\n",
       "[366 rows x 6 columns]"
      ]
     },
     "execution_count": 3,
     "metadata": {},
     "output_type": "execute_result"
    }
   ],
   "source": [
    "df = pd.read_csv(\"s3_data.csv\")\n",
    "df.set_index(\"Date\", inplace=True)\n",
    "df.dropna()"
   ]
  },
  {
   "cell_type": "code",
   "execution_count": 4,
   "id": "db2f2eeb",
   "metadata": {},
   "outputs": [],
   "source": [
    "x = df.iloc[:, 0:5].values # open, high, low, close, adj-close\n",
    "y = df.iloc[:, 4].values #adj-close\n",
    "#there are five features we will need. "
   ]
  },
  {
   "cell_type": "code",
   "execution_count": 5,
   "id": "1b276a0a",
   "metadata": {},
   "outputs": [
    {
     "data": {
      "text/plain": [
       "(366,)"
      ]
     },
     "execution_count": 5,
     "metadata": {},
     "output_type": "execute_result"
    }
   ],
   "source": [
    "x.shape# the length of the array\n",
    "y.shape"
   ]
  },
  {
   "cell_type": "code",
   "execution_count": 6,
   "id": "e6a7dae4",
   "metadata": {},
   "outputs": [],
   "source": [
    "x_train, x_test, y_train, y_test = train_test_split(x, y, test_size=0.3,  random_state=100)\n",
    "# Split arrays and matrices into random train and test subsets.\n",
    "# The test_size represents the proportion of the dataset to include in the test split.Here we use 0.3"
   ]
  },
  {
   "cell_type": "code",
   "execution_count": 7,
   "id": "4d82f9af",
   "metadata": {},
   "outputs": [],
   "source": [
    "rf_model = RandomForestRegressor(n_estimators=100, max_depth=2, max_features=4, random_state=10)\n",
    "rf_model.fit(x_train, y_train)\n",
    "predict_rf = rf_model.predict(x_test)"
   ]
  },
  {
   "cell_type": "code",
   "execution_count": 8,
   "id": "d937a50e",
   "metadata": {},
   "outputs": [
    {
     "name": "stdout",
     "output_type": "stream",
     "text": [
      "RMSE: 24.6166\n",
      "(R^2) Score: 0.9377\n",
      "Accuracy: 95.1954 %.\n"
     ]
    }
   ],
   "source": [
    "#RF \n",
    "\n",
    "print(\"RMSE:\", round(np.sqrt(metrics.mean_squared_error(y_test, predict_rf)), 4))\n",
    "print(\"(R^2) Score:\", round(metrics.r2_score(y_test, predict_rf), 4))\n",
    "errors = abs(predict_rf - y_test)\n",
    "mape = 100 * (errors / y_test)\n",
    "accuracy = 100 - np.mean(mape)\n",
    "print('Accuracy:', round(accuracy, 4), '%.') "
   ]
  },
  {
   "cell_type": "code",
   "execution_count": 9,
   "id": "f529a349",
   "metadata": {},
   "outputs": [],
   "source": [
    "#SVM\n",
    "from sklearn import svm\n",
    "\n",
    "svm_clf = svm.SVC(probability=True)\n",
    "svm_clf.fit(x, y.astype('int'))\n",
    "predict_svm = svm_clf.predict(x_test)"
   ]
  },
  {
   "cell_type": "code",
   "execution_count": 10,
   "id": "f311cf0c",
   "metadata": {},
   "outputs": [
    {
     "name": "stdout",
     "output_type": "stream",
     "text": [
      "RMSE: 18.4284\n",
      "(R^2) Score: 0.9651\n",
      "Accuracy: 96.6021 %.\n"
     ]
    }
   ],
   "source": [
    "print(\"RMSE:\", round(np.sqrt(metrics.mean_squared_error(y_test, predict_svm)), 4))\n",
    "print(\"(R^2) Score:\", round(metrics.r2_score(y_test, predict_svm), 4))\n",
    "\n",
    "svm_errors = abs(predict_svm - y_test)\n",
    "svm_mape = 100 * (svm_errors / y_test)\n",
    "accuracy = 100 - np.mean(svm_mape)\n",
    "print('Accuracy:', round(accuracy, 4), '%.') "
   ]
  },
  {
   "cell_type": "code",
   "execution_count": 11,
   "id": "85fad572",
   "metadata": {},
   "outputs": [],
   "source": [
    "#LR model\n",
    "y_train=y_train.astype('int')#change train dataset into integers\n",
    "x_train=x_train.astype('int')#change train dataset into integers"
   ]
  },
  {
   "cell_type": "code",
   "execution_count": 12,
   "id": "1aadfced",
   "metadata": {},
   "outputs": [
    {
     "name": "stdout",
     "output_type": "stream",
     "text": [
      "multiclass\n"
     ]
    }
   ],
   "source": [
    "from sklearn.linear_model import LogisticRegression\n",
    "lr=LogisticRegression(solver='liblinear')\n",
    "lr.fit(x_train,y_train)\n",
    "predict_lr=lr.predict(x_test)\n",
    "from sklearn import preprocessing\n",
    "label_encoder=preprocessing.LabelEncoder()\n",
    "y_train=label_encoder.fit_transform(y_train)\n",
    "from sklearn import utils\n",
    "print(utils.multiclass.type_of_target(y_train))"
   ]
  },
  {
   "cell_type": "code",
   "execution_count": 13,
   "id": "802dcb46",
   "metadata": {},
   "outputs": [
    {
     "name": "stdout",
     "output_type": "stream",
     "text": [
      "RMSE: 121.7038\n",
      "(R^2) Score: -0.5229\n",
      "Accuracy: 76.0151 %\n"
     ]
    }
   ],
   "source": [
    "#LR\n",
    "print(\"RMSE:\", round(np.sqrt(metrics.mean_squared_error(y_test, predict_lr)), 4))\n",
    "print(\"(R^2) Score:\", round(metrics.r2_score(y_test, predict_lr), 4))\n",
    "errors = abs(predict_lr - y_test)\n",
    "mape = 100* (errors / y_test)\n",
    "accuracy = 100 - np.mean(mape)\n",
    "print('Accuracy:', round(accuracy, 4),'%') "
   ]
  },
  {
   "cell_type": "code",
   "execution_count": 14,
   "id": "761500b2",
   "metadata": {},
   "outputs": [
    {
     "data": {
      "image/png": "[encoded data removed]",
      "text/plain": [
       "<Figure size 360x216 with 1 Axes>"
      ]
     },
     "metadata": {
      "needs_background": "light"
     },
     "output_type": "display_data"
    }
   ],
   "source": [
    "#BNB-1-week comparison,there are five trading days in one week.\n",
    "predict_rf_oneweek=predict_rf[:5]\n",
    "predict_svm_oneweek=predict_svm[:5]\n",
    "predict_lr_oneweek=predict_lr[:5]\n",
    "plt.figure(figsize=(5,3))\n",
    "x=np.arange(5)\n",
    "plt.ylim([0,700])\n",
    "plt.plot(x, predict_rf_oneweek,color='black',linewidth=0.5)\n",
    "plt.plot(x,predict_svm_oneweek,color='green',linewidth=0.5)\n",
    "plt.plot(x,predict_lr_oneweek,color='blue',linewidth=0.5)\n",
    "plt.legend(['RF','SVM','LR (Benchmark)'],loc='lower right')\n",
    "plt.title('One-Week prediction for BNB price ')\n",
    "x_ticks=np.arange(0,5,1)\n",
    "plt.xticks(x_ticks)\n",
    "index_ls=['02/06','03/06','06/06','07/06','08/06']\n",
    "plt.xticks(x,index_ls)\n",
    "plt.xlabel(\"Date\")\n",
    "plt.ylabel(\"Price\")\n",
    "\n",
    "plt.show()"
   ]
  },
  {
   "cell_type": "code",
   "execution_count": 15,
   "id": "2c6bf752",
   "metadata": {},
   "outputs": [
    {
     "name": "stdout",
     "output_type": "stream",
     "text": [
      "one-week\n",
      "LR\n",
      "RMSE: 108.09\n",
      "(R^2) Score: -0.47\n",
      "Accuracy: 75.89 %\n",
      "RF\n",
      "RMSE: 20.68\n",
      "(R^2) Score: 0.95\n",
      "Accuracy: 96.01 %\n",
      "SVM\n",
      "RMSE: 15.65\n",
      "(R^2) Score: 0.97\n",
      "Accuracy: 96.97 %\n"
     ]
    }
   ],
   "source": [
    "#one-week accuracy\n",
    "print('one-week')\n",
    "y_test1=y_test[:5]\n",
    "print('LR')\n",
    "print(\"RMSE:\", round(np.sqrt(metrics.mean_squared_error(y_test1, predict_lr_oneweek)), 2))\n",
    "print(\"(R^2) Score:\", round(metrics.r2_score(y_test1, predict_lr_oneweek), 2))\n",
    "errors = abs(predict_lr_oneweek - y_test1)\n",
    "mape = 100* (errors / y_test1)\n",
    "accuracy = 100 - np.mean(mape)\n",
    "print('Accuracy:', round(accuracy, 2),'%') \n",
    "\n",
    "print('RF')\n",
    "print(\"RMSE:\", round(np.sqrt(metrics.mean_squared_error(y_test1, predict_rf_oneweek)), 2))\n",
    "print(\"(R^2) Score:\", round(metrics.r2_score(y_test1, predict_rf_oneweek), 2))\n",
    "errors = abs(predict_rf_oneweek - y_test1)\n",
    "mape = 100* (errors / y_test1)\n",
    "accuracy = 100 - np.mean(mape)\n",
    "print('Accuracy:', round(accuracy, 2),'%') \n",
    "\n",
    "print('SVM')\n",
    "print(\"RMSE:\", round(np.sqrt(metrics.mean_squared_error(y_test1, predict_svm_oneweek)), 2))\n",
    "print(\"(R^2) Score:\", round(metrics.r2_score(y_test1, predict_svm_oneweek), 2))\n",
    "errors = abs(predict_svm_oneweek - y_test1)\n",
    "mape = 100* (errors / y_test1)\n",
    "accuracy = 100 - np.mean(mape)\n",
    "print('Accuracy:', round(accuracy, 2),'%') "
   ]
  },
  {
   "cell_type": "code",
   "execution_count": 16,
   "id": "b10ba973",
   "metadata": {},
   "outputs": [
    {
     "data": {
      "image/png": "[encoded data removed]",
      "text/plain": [
       "<Figure size 936x216 with 1 Axes>"
      ]
     },
     "metadata": {
      "needs_background": "light"
     },
     "output_type": "display_data"
    }
   ],
   "source": [
    "#BNB-1-month comparison,there are 22 trading days in one month.\n",
    "predict_rf_onemonth=predict_rf[:22]\n",
    "predict_svm_onemonth=predict_svm[:22]\n",
    "predict_lr_onemonth=predict_lr[:22]\n",
    "plt.figure(figsize=(13,3))\n",
    "x=np.arange(0,22,1)\n",
    "plt.ylim([0,900])\n",
    "plt.plot(x, predict_rf_onemonth,color='black',linewidth=0.5)\n",
    "plt.plot(x,predict_svm_onemonth,color='green',linewidth=0.5)\n",
    "plt.plot(x,predict_lr_onemonth,color='blue',linewidth=0.5)\n",
    "plt.legend(['RF','SVM','LR (Benchmark)'],loc='lower right')\n",
    "plt.title('One-Month prediction for BNB price')\n",
    "x_ticks=np.arange(0,22,1)\n",
    "plt.xticks(x_ticks)\n",
    "index_ls=['02/06','03/06','06/06','07/06','08/06','09/06','10/06','13/06','14/06','15/06','16/06','17/06','20/06','21/06','22/06','23/06','24/06','27/06','28/06','29/06','30/06','01/07']\n",
    "\n",
    "plt.xticks(x,index_ls)\n",
    "plt.xlabel(\"Date\")\n",
    "plt.ylabel(\"Price\")\n",
    "\n",
    "plt.show()"
   ]
  },
  {
   "cell_type": "code",
   "execution_count": 17,
   "id": "b68dda40",
   "metadata": {},
   "outputs": [
    {
     "name": "stdout",
     "output_type": "stream",
     "text": [
      "one-month\n",
      "LR\n",
      "RMSE: 123.54\n",
      "(R^2) Score: -0.61\n",
      "Accuracy: 73.25 %\n",
      "RF\n",
      "RMSE: 28.19\n",
      "(R^2) Score: 0.92\n",
      "Accuracy: 94.14 %\n",
      "SVM\n",
      "RMSE: 20.84\n",
      "(R^2) Score: 0.95\n",
      "Accuracy: 95.5 %\n"
     ]
    }
   ],
   "source": [
    "#one-month accuracy\n",
    "print('one-month')\n",
    "y_test2=y_test[:22]\n",
    "print('LR')\n",
    "print(\"RMSE:\", round(np.sqrt(metrics.mean_squared_error(y_test2, predict_lr_onemonth)), 2))\n",
    "print(\"(R^2) Score:\", round(metrics.r2_score(y_test2, predict_lr_onemonth), 2))\n",
    "errors = abs(predict_lr_onemonth - y_test2)\n",
    "mape = 100* (errors / y_test2)\n",
    "accuracy = 100 - np.mean(mape)\n",
    "print('Accuracy:', round(accuracy, 2),'%') \n",
    "\n",
    "print('RF')\n",
    "print(\"RMSE:\", round(np.sqrt(metrics.mean_squared_error(y_test2, predict_rf_onemonth)), 2))\n",
    "print(\"(R^2) Score:\", round(metrics.r2_score(y_test2, predict_rf_onemonth), 2))\n",
    "errors = abs(predict_rf_onemonth - y_test2)\n",
    "mape = 100* (errors / y_test2)\n",
    "accuracy = 100 - np.mean(mape)\n",
    "print('Accuracy:', round(accuracy, 2),'%') \n",
    "\n",
    "print('SVM')\n",
    "print(\"RMSE:\", round(np.sqrt(metrics.mean_squared_error(y_test2, predict_svm_onemonth)), 2))\n",
    "print(\"(R^2) Score:\", round(metrics.r2_score(y_test2, predict_svm_onemonth), 2))\n",
    "errors = abs(predict_svm_onemonth - y_test2)\n",
    "mape = 100* (errors / y_test2)\n",
    "accuracy = 100 - np.mean(mape)\n",
    "print('Accuracy:', round(accuracy, 2),'%') "
   ]
  },
  {
   "cell_type": "code",
   "execution_count": 18,
   "id": "a18c620a",
   "metadata": {},
   "outputs": [
    {
     "data": {
      "image/png": "[encoded data removed]",
      "text/plain": [
       "<Figure size 360x216 with 1 Axes>"
      ]
     },
     "metadata": {
      "needs_background": "light"
     },
     "output_type": "display_data"
    }
   ],
   "source": [
    "#BNB-3-month comparison,there are 64 trading days in three months.\n",
    "predict_rf_threemonth=predict_rf[:64]\n",
    "predict_svm_threemonth=predict_svm[:64]\n",
    "predict_lr_threemonth=predict_lr[:64]\n",
    "plt.figure(figsize=(5,3))\n",
    "x=np.arange(0,64,1)\n",
    "plt.ylim([0,800])\n",
    "plt.plot(x, predict_rf_threemonth,color='black',linewidth=0.5)\n",
    "plt.plot(x,predict_svm_threemonth,color='green',linewidth=0.5)\n",
    "plt.plot(x,predict_lr_threemonth,color='blue',linewidth=0.5)\n",
    "plt.legend(['RF','SVM','LR (Benchmark)'],loc='lower right')\n",
    "plt.title('Three-Months prediction for BNB price')\n",
    "plt.xlabel(\"Date\")\n",
    "plt.ylabel(\"Price\")\n",
    "\n",
    "plt.show()"
   ]
  },
  {
   "cell_type": "code",
   "execution_count": 19,
   "id": "b0ad99b0",
   "metadata": {},
   "outputs": [
    {
     "name": "stdout",
     "output_type": "stream",
     "text": [
      "Three-Month\n",
      "LR\n",
      "RMSE: 123.95\n",
      "(R^2) Score: -0.41\n",
      "Accuracy: 76.56 %\n",
      "RF\n",
      "RMSE: 26.64\n",
      "(R^2) Score: 0.93\n",
      "Accuracy: 94.98 %\n",
      "SVM\n",
      "RMSE: 18.38\n",
      "(R^2) Score: 0.97\n",
      "Accuracy: 96.7 %\n"
     ]
    }
   ],
   "source": [
    "#Three-month accuracy\n",
    "print('Three-Month')\n",
    "y_test3=y_test[:64]\n",
    "print('LR')\n",
    "print(\"RMSE:\", round(np.sqrt(metrics.mean_squared_error(y_test3, predict_lr_threemonth)), 2))\n",
    "print(\"(R^2) Score:\", round(metrics.r2_score(y_test3, predict_lr_threemonth), 2))\n",
    "errors = abs(predict_lr_threemonth - y_test3)\n",
    "mape = 100* (errors / y_test3)\n",
    "accuracy = 100 - np.mean(mape)\n",
    "print('Accuracy:', round(accuracy, 2),'%') \n",
    "\n",
    "print('RF')\n",
    "print(\"RMSE:\", round(np.sqrt(metrics.mean_squared_error(y_test3, predict_rf_threemonth)), 2))\n",
    "print(\"(R^2) Score:\", round(metrics.r2_score(y_test3, predict_rf_threemonth), 2))\n",
    "errors = abs(predict_rf_threemonth - y_test3)\n",
    "mape = 100* (errors / y_test3)\n",
    "accuracy = 100 - np.mean(mape)\n",
    "print('Accuracy:', round(accuracy, 2),'%') \n",
    "\n",
    "print('SVM')\n",
    "print(\"RMSE:\", round(np.sqrt(metrics.mean_squared_error(y_test3, predict_svm_threemonth)), 2))\n",
    "print(\"(R^2) Score:\", round(metrics.r2_score(y_test3, predict_svm_threemonth), 2))\n",
    "errors = abs(predict_svm_threemonth - y_test3)\n",
    "mape = 100* (errors / y_test3)\n",
    "accuracy = 100 - np.mean(mape)\n",
    "print('Accuracy:', round(accuracy, 2),'%') "
   ]
  },
  {
   "cell_type": "code",
   "execution_count": 20,
   "id": "8f6d56da",
   "metadata": {},
   "outputs": [
    {
     "name": "stdout",
     "output_type": "stream",
     "text": [
      "Investment Strategy for next 1 week\n",
      "Buy price and date\n",
      "   Unnamed: 0  Predictions\n",
      "3  2022-06-03          302\n",
      "Sell price and date\n",
      "   Unnamed: 0  Predictions\n",
      "0  2022-05-31          559\n"
     ]
    }
   ],
   "source": [
    "predictions = pd.DataFrame({\"Predictions\": predict_svm}, index=pd.date_range(start=df.index[-1], periods=len(predict_svm), freq=\"D\"))\n",
    "predictions.to_csv(\"Predicted-price-data.csv\")\n",
    "#colllects future days from predicted values\n",
    "oneweek_df = pd.DataFrame(predictions[:5])\n",
    "oneweek_df.to_csv(\"oneweek-predictions.csv\")\n",
    "oneweek_df_pred = pd.read_csv(\"oneweek-predictions.csv\")\n",
    "buy_price = min(oneweek_df_pred[\"Predictions\"])\n",
    "sell_price = max(oneweek_df_pred[\"Predictions\"])\n",
    "oneweek_buy = oneweek_df_pred.loc[oneweek_df_pred[\"Predictions\"] == buy_price]\n",
    "oneweek_sell = oneweek_df_pred.loc[oneweek_df_pred[\"Predictions\"] == sell_price]\n",
    "print(\"Investment Strategy for next 1 week\")\n",
    "print(\"Buy price and date\")\n",
    "print(oneweek_buy)\n",
    "print(\"Sell price and date\")\n",
    "print(oneweek_sell)"
   ]
  },
  {
   "cell_type": "code",
   "execution_count": 21,
   "id": "86c9999e",
   "metadata": {},
   "outputs": [
    {
     "name": "stdout",
     "output_type": "stream",
     "text": [
      "Investment Strategy for next 1 month\n",
      "Buy price and date\n",
      "    Unnamed: 0  Predictions\n",
      "3   2022-06-03          302\n",
      "10  2022-06-10          302\n",
      "15  2022-06-15          302\n",
      "17  2022-06-17          302\n",
      "19  2022-06-19          302\n",
      "Sell price and date\n",
      "   Unnamed: 0  Predictions\n",
      "8  2022-06-08          650\n"
     ]
    }
   ],
   "source": [
    "predictions = pd.DataFrame({\"Predictions\": predict_svm}, index=pd.date_range(start=df.index[-1], periods=len(predict_svm), freq=\"D\"))\n",
    "\n",
    "predictions.to_csv(\"Predicted-price-data.csv\")\n",
    "#colllects future days from predicted values\n",
    "\n",
    "onemonth_df = pd.DataFrame(predictions[:22])\n",
    "onemonth_df.to_csv(\"one-month-predictions.csv\")\n",
    "\n",
    "\n",
    "onemonth_df_pred = pd.read_csv(\"one-month-predictions.csv\")\n",
    "\n",
    "buy_price = min(onemonth_df_pred[\"Predictions\"])\n",
    "sell_price = max(onemonth_df_pred[\"Predictions\"])\n",
    "onemonth_buy = onemonth_df_pred.loc[onemonth_df_pred[\"Predictions\"] == buy_price]\n",
    "onemonth_sell = onemonth_df_pred.loc[onemonth_df_pred[\"Predictions\"] == sell_price]\n",
    "print(\"Investment Strategy for next 1 month\")\n",
    "print(\"Buy price and date\")\n",
    "print(onemonth_buy)\n",
    "print(\"Sell price and date\")\n",
    "print(onemonth_sell)"
   ]
  },
  {
   "cell_type": "code",
   "execution_count": 22,
   "id": "e0437e65",
   "metadata": {},
   "outputs": [
    {
     "name": "stdout",
     "output_type": "stream",
     "text": [
      "Investment Strategy for next 3 months\n",
      "Buy price and date\n",
      "    Unnamed: 0  Predictions\n",
      "3   2022-06-03          302\n",
      "10  2022-06-10          302\n",
      "15  2022-06-15          302\n",
      "17  2022-06-17          302\n",
      "19  2022-06-19          302\n",
      "36  2022-07-06          302\n",
      "39  2022-07-09          302\n",
      "51  2022-07-21          302\n",
      "58  2022-07-28          302\n",
      "60  2022-07-30          302\n",
      "Sell price and date\n",
      "    Unnamed: 0  Predictions\n",
      "8   2022-06-08          650\n",
      "23  2022-06-23          650\n",
      "33  2022-07-03          650\n",
      "45  2022-07-15          650\n",
      "50  2022-07-20          650\n",
      "55  2022-07-25          650\n"
     ]
    }
   ],
   "source": [
    "predictions = pd.DataFrame({\"Predictions\": predict_svm}, index=pd.date_range(start=df.index[-1], periods=len(predict_svm), freq=\"D\"))\n",
    "predictions.to_csv(\"Predicted-price-data.csv\")\n",
    "#colllects future days from predicted values\n",
    "threemonth_df = pd.DataFrame(predictions[:63])\n",
    "threemonth_df.to_csv(\"three-month-predictions.csv\")\n",
    "threemonth_df_pred = pd.read_csv(\"three-month-predictions.csv\")\n",
    "buy_price = min(threemonth_df_pred[\"Predictions\"])\n",
    "sell_price = max(threemonth_df_pred[\"Predictions\"])\n",
    "threemonth_buy = threemonth_df_pred.loc[threemonth_df_pred[\"Predictions\"] == buy_price]\n",
    "threemonth_sell = threemonth_df_pred.loc[threemonth_df_pred[\"Predictions\"] == sell_price]\n",
    "print(\"Investment Strategy for next 3 months\")\n",
    "print(\"Buy price and date\")\n",
    "print(threemonth_buy)\n",
    "print(\"Sell price and date\")\n",
    "print(threemonth_sell)"
   ]
  },
  {
   "cell_type": "code",
   "execution_count": null,
   "id": "c5814ccf",
   "metadata": {},
   "outputs": [],
   "source": []
  }
 ],
 "metadata": {
  "kernelspec": {
   "display_name": "Python 3 (ipykernel)",
   "language": "python",
   "name": "python3"
  },
  "language_info": {
   "codemirror_mode": {
    "name": "ipython",
    "version": 3
   },
   "file_extension": ".py",
   "mimetype": "text/x-python",
   "name": "python",
   "nbconvert_exporter": "python",
   "pygments_lexer": "ipython3",
   "version": "3.9.7"
  }
 },
 "nbformat": 4,
 "nbformat_minor": 5
}
